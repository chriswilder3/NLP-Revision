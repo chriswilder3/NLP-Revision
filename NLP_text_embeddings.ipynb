{
  "nbformat": 4,
  "nbformat_minor": 0,
  "metadata": {
    "colab": {
      "provenance": []
    },
    "kernelspec": {
      "name": "python3",
      "display_name": "Python 3"
    },
    "language_info": {
      "name": "python"
    }
  },
  "cells": [
    {
      "cell_type": "code",
      "execution_count": 2,
      "metadata": {
        "id": "1D3bLdUGLYbV"
      },
      "outputs": [],
      "source": [
        "#!pip install gensim"
      ]
    },
    {
      "cell_type": "markdown",
      "source": [
        "#Gensim\n",
        "\n",
        "Gensim is an open-source library for unsupervised topic modeling, document indexing, retrieval by similarity, and other natural language processing functionalities"
      ],
      "metadata": {
        "id": "bWuzw8xBQMnX"
      }
    },
    {
      "cell_type": "markdown",
      "source": [
        "The core concepts of gensim are:\n",
        "\n",
        "- **Document**\n",
        "In Gensim, a document is an object of the text sequence type (commonly known as str in Python 3). A document could be anything from a short 140 character tweet, a single paragraph (i.e., journal article abstract), a news article, or a book.\n",
        "\n",
        "- **Corpus**\n",
        "A corpus is a collection of Document objects. Corpora serve two roles in Gensim:\n",
        "\n",
        "  1. Input for training a Model. During training, the models use this training corpus to look for common themes and topics, initializing their internal model parameters.\n",
        "\n",
        "  2. Gensim focuses on unsupervised models so that no human intervention, such as costly annotations or tagging documents by hand, is required.\n",
        "\n",
        "  3. Documents to organize. After training, a topic model can be used to extract topics from new documents (documents not seen in the training corpus).\n",
        "\n",
        "  Such corpora can be indexed for Similarity Queries, queried by semantic similarity, clustered etc."
      ],
      "metadata": {
        "id": "VXsgZGuJQofQ"
      }
    },
    {
      "cell_type": "code",
      "source": [
        "# Here is an Example of text corpus :\n",
        "text_corpus = [\n",
        "    \"Human machine interface for lab abc computer applications\",\n",
        "    \"A survey of user opinion of computer system response time\",\n",
        "    \"The EPS user interface management system\",\n",
        "    \"System and human system engineering testing of EPS\",\n",
        "    \"Relation of user perceived response time to error measurement\",\n",
        "    \"The generation of random binary unordered trees\",\n",
        "    \"The intersection graph of paths in trees\",\n",
        "    \"Graph minors IV Widths of trees and well quasi ordering\",\n",
        "    \"Graph minors A survey\",\n",
        "]\n",
        "\n",
        "# Lets first preprocess this\n",
        "\n",
        "cleaned_corpus = [\n",
        "    doc.lower().split() for doc in text_corpus  # Lowercase it and then tokenizewords also (split())\n",
        "]\n",
        "\n",
        "# We can even remove the for stop words if we want\n",
        "stopwords = set( \"for in and not of a the to\".split())\n",
        "\n",
        "print(stopwords)\n",
        "\n",
        "cleaned_corpus = [\n",
        "    [word for word in doc if word not in stopwords] for doc in cleaned_corpus\n",
        "]\n",
        "\n",
        "cleaned_corpus"
      ],
      "metadata": {
        "colab": {
          "base_uri": "https://localhost:8080/"
        },
        "id": "adSlmRk5PEUG",
        "outputId": "5479bd82-7752-4e26-897c-b728d3f875e3"
      },
      "execution_count": 3,
      "outputs": [
        {
          "output_type": "stream",
          "name": "stdout",
          "text": [
            "{'and', 'to', 'in', 'not', 'the', 'a', 'of', 'for'}\n"
          ]
        },
        {
          "output_type": "execute_result",
          "data": {
            "text/plain": [
              "[['human', 'machine', 'interface', 'lab', 'abc', 'computer', 'applications'],\n",
              " ['survey', 'user', 'opinion', 'computer', 'system', 'response', 'time'],\n",
              " ['eps', 'user', 'interface', 'management', 'system'],\n",
              " ['system', 'human', 'system', 'engineering', 'testing', 'eps'],\n",
              " ['relation', 'user', 'perceived', 'response', 'time', 'error', 'measurement'],\n",
              " ['generation', 'random', 'binary', 'unordered', 'trees'],\n",
              " ['intersection', 'graph', 'paths', 'trees'],\n",
              " ['graph', 'minors', 'iv', 'widths', 'trees', 'well', 'quasi', 'ordering'],\n",
              " ['graph', 'minors', 'survey']]"
            ]
          },
          "metadata": {},
          "execution_count": 3
        }
      ]
    },
    {
      "cell_type": "markdown",
      "source": [
        "- Before proceeding, we want to associate each word in the corpus with a unique integer ID. We can do this using the gensim.corpora.Dictionary class. This dictionary defines the vocabulary of all words that our processing knows about."
      ],
      "metadata": {
        "id": "sR2Eb7RuXbx4"
      }
    },
    {
      "cell_type": "code",
      "source": [
        "from gensim import corpora\n",
        "\n",
        "dictionary = corpora.Dictionary(cleaned_corpus)\n",
        "print(dictionary)"
      ],
      "metadata": {
        "colab": {
          "base_uri": "https://localhost:8080/"
        },
        "id": "T3UTSM2MPuLg",
        "outputId": "9208f5d6-87ba-44c8-e67b-3deb183168a7"
      },
      "execution_count": 4,
      "outputs": [
        {
          "output_type": "stream",
          "name": "stdout",
          "text": [
            "Dictionary<35 unique tokens: ['abc', 'applications', 'computer', 'human', 'interface']...>\n"
          ]
        }
      ]
    },
    {
      "cell_type": "markdown",
      "source": [
        "- **Vectorization**\n",
        "\n"
      ],
      "metadata": {
        "id": "aqlThyA_YepB"
      }
    },
    {
      "cell_type": "code",
      "source": [
        "# We can apply simple vectorizations as we seen before using gensim also.\n",
        "# For ex :\n",
        "new_doc = \"Human computer interaction\"\n",
        "new_vec = dictionary.doc2bow(new_doc.lower().split())\n",
        "# print(new_vec)\n",
        "\n",
        "# Now lets apply it to entire corpus\n",
        "bow_corpus = [dictionary.doc2bow(text) for text in cleaned_corpus]\n",
        "print(bow_corpus)"
      ],
      "metadata": {
        "colab": {
          "base_uri": "https://localhost:8080/"
        },
        "id": "XTaQG8FPYHXF",
        "outputId": "da7c29b0-1c72-4e55-d541-6483ba8d072e"
      },
      "execution_count": 5,
      "outputs": [
        {
          "output_type": "stream",
          "name": "stdout",
          "text": [
            "[[(0, 1), (1, 1), (2, 1), (3, 1), (4, 1), (5, 1), (6, 1)], [(2, 1), (7, 1), (8, 1), (9, 1), (10, 1), (11, 1), (12, 1)], [(4, 1), (10, 1), (12, 1), (13, 1), (14, 1)], [(3, 1), (10, 2), (13, 1), (15, 1), (16, 1)], [(8, 1), (11, 1), (12, 1), (17, 1), (18, 1), (19, 1), (20, 1)], [(21, 1), (22, 1), (23, 1), (24, 1), (25, 1)], [(24, 1), (26, 1), (27, 1), (28, 1)], [(24, 1), (26, 1), (29, 1), (30, 1), (31, 1), (32, 1), (33, 1), (34, 1)], [(9, 1), (26, 1), (30, 1)]]\n"
          ]
        }
      ]
    },
    {
      "cell_type": "markdown",
      "source": [
        "- **Model**\n",
        "\n",
        "  Now that we have vectorized our corpus we can begin to transform it using models. We use model as an abstract term referring to a transformation from one document representation to another.\n",
        "  \n",
        "  In gensim documents are represented as vectors so a model can be thought of as a transformation between two vector spaces. The model learns the details of this transformation during training, when it reads the training Corpus.\n",
        "\n",
        "  Here’s a simple example. Let’s initialize the tf-idf model, training it on our corpus and transforming the string “system minors”:"
      ],
      "metadata": {
        "id": "Ou7c-25IZx-B"
      }
    },
    {
      "cell_type": "code",
      "source": [
        "from gensim.models import TfidfModel\n",
        "\n",
        "tfidf = TfidfModel(bow_corpus)\n",
        "print(tfidf)\n",
        "\n",
        "words = \"system minors\".lower().split()\n",
        "print(tfidf[dictionary.doc2bow(words)]) # The tfidf model returns a list of tuples, where the first entry is the token ID and the second entry is the tf-idf weighting."
      ],
      "metadata": {
        "colab": {
          "base_uri": "https://localhost:8080/"
        },
        "id": "T6qEfjRoY1H4",
        "outputId": "f9abd7e0-30d6-4e50-83b5-f1d5366ee8c8"
      },
      "execution_count": 6,
      "outputs": [
        {
          "output_type": "stream",
          "name": "stdout",
          "text": [
            "TfidfModel<num_docs=9, num_nnz=51>\n",
            "[(10, 0.5898341626740045), (30, 0.8075244024440723)]\n"
          ]
        }
      ]
    },
    {
      "cell_type": "markdown",
      "source": [
        "Once you’ve created the model, you can do all sorts of cool stuff with it.\n",
        "\n",
        "For ex: to transform the whole corpus via TfIdf and index it, in preparation for similarity queries"
      ],
      "metadata": {
        "id": "omuxNChdbzn7"
      }
    },
    {
      "cell_type": "code",
      "source": [
        "from gensim import similarities\n",
        "\n",
        "index = similarities.SparseMatrixSimilarity(tfidf[bow_corpus],num_features = 35)\n",
        "\n",
        "# Now query a new document on corpus for similar docs\n",
        "query_document = 'system engineering'.split()\n",
        "query_bow = dictionary.doc2bow(query_document)\n",
        "sims = index[tfidf[query_bow]]\n",
        "print(list(enumerate(sims)))"
      ],
      "metadata": {
        "colab": {
          "base_uri": "https://localhost:8080/"
        },
        "id": "c6vJu0w1bcuO",
        "outputId": "8b0071a8-a4ca-4f6e-c844-9c55a9d6eb33"
      },
      "execution_count": 7,
      "outputs": [
        {
          "output_type": "stream",
          "name": "stdout",
          "text": [
            "[(0, 0.0), (1, 0.12172779), (2, 0.14323246), (3, 0.67615116), (4, 0.0), (5, 0.0), (6, 0.0), (7, 0.0), (8, 0.0)]\n"
          ]
        }
      ]
    },
    {
      "cell_type": "markdown",
      "source": [
        "Correct. Since our 3rd document contained these words systems and engineering."
      ],
      "metadata": {
        "id": "YtJd3HQ4dXvE"
      }
    },
    {
      "cell_type": "markdown",
      "source": [
        "# Word2Vec in GenSim"
      ],
      "metadata": {
        "id": "alyK6nI2eEuJ"
      }
    },
    {
      "cell_type": "markdown",
      "source": [
        "Gensim implements the word2vec family of algorithms, using highly optimized C routines, data streaming and Pythonic interfaces.\n",
        "\n",
        "The word2vec algorithms include skip-gram and CBOW models. There are more ways to train word vectors in Gensim than just Word2Vec. See also Doc2Vec, FastText."
      ],
      "metadata": {
        "id": "mQOuhMZvf4Bo"
      }
    },
    {
      "cell_type": "markdown",
      "metadata": {
        "id": "6ac132ac"
      },
      "source": [
        "**Embedding techniques** involve creating Q & A type features created for each word in vocabulary. Each of these features are given values based on semantic meanings and human understanding.\n",
        "\n",
        "For ex : Here is a table\n",
        "\n",
        "$$\n",
        "\\begin{array}{cccccc}\n",
        "\\text{Features \\ Words} & \\text{King} & \\text{Queen} & \\text{Man} & \\text{Woman} & \\text{Monkeymale} \\\\\n",
        "\\hline\n",
        "\\text{Gender} & \\text{1}    & \\text{0}     & \\text{1}   & \\text{0}     & \\text{1}            \\\\\n",
        "\\text{Wealth}                          & \\text{1}    & \\text{0.7}   & \\text{0.3} & \\text{0.3}   & \\text{0}            \\\\\n",
        "\\text{Weight}                          & \\text{0.8}  & \\text{0.4}   & \\text{0.6} & \\text{0.5}   & \\text{0.3}          \\\\\n",
        "\\text{Speak}                           & \\text{1}    & \\text{1}     & \\text{1}   & \\text{1}     & \\text{0}\n",
        "\\end{array}\n",
        "$$"
      ]
    },
    {
      "cell_type": "markdown",
      "source": [
        "  - So. A king is represented by vector [1,1,0.8,1] and Queen by [0,0.7,0.4,1] and so on.\n",
        "\n",
        "  - But manually creating such features, and then converting into vectors by humans is not scalable due to large vocabulary size.\n",
        "\n",
        "  - Hence We automatically create this, by using machine learning."
      ],
      "metadata": {
        "id": "5CHIisSknfOR"
      }
    },
    {
      "cell_type": "markdown",
      "source": [
        "Word2Vec uses shallow(not deep) neural networks to learn this processing of creating features and vectors. But note that, such features will be abstract, and we cant explain their significance, meaning."
      ],
      "metadata": {
        "id": "EK5earkeoSiR"
      }
    },
    {
      "cell_type": "markdown",
      "source": [
        "# Working of Word2Vec\n",
        "**Continous Bag of Words(CBoW)**\n",
        "\n",
        "  - We start by defining a dummy problem of predicting target word from its surrounding context( in Continous BoW)\n",
        "\n",
        "  - This problem helps capture contextual and semantic meaning of the word.\n",
        "\n",
        "  - In this process, vectors are generated automatically, the size of these vectors is to be determined by us beforehand. The higher vector size we select, more semantic meaning is capturable but more compute intesive."
      ],
      "metadata": {
        "id": "NW0ky3wWpc0R"
      }
    },
    {
      "cell_type": "code",
      "source": [
        "# Lets take a corpus\n",
        "corpus = \"watch campusx for data science\"\n",
        "\n",
        "corpus_cleaned = corpus.lower().split()\n",
        "corpus_cleaned"
      ],
      "metadata": {
        "colab": {
          "base_uri": "https://localhost:8080/"
        },
        "id": "ixFQVJnanNvf",
        "outputId": "adaf1888-e398-4635-c473-680811d96aeb"
      },
      "execution_count": 8,
      "outputs": [
        {
          "output_type": "execute_result",
          "data": {
            "text/plain": [
              "['watch', 'campusx', 'for', 'data', 'science']"
            ]
          },
          "metadata": {},
          "execution_count": 8
        }
      ]
    },
    {
      "cell_type": "markdown",
      "source": [
        "  - Now we will consider a Window of 3 words.\n",
        "  - ie, for the window \"watch campusx for\" , campusx is target word. watch & for are context words.\n",
        "  - For odd sized windows, center word is target and surrounding text are context words.\n",
        "\n",
        "  - lets say we want vectors of size 5 ( this is independent of window size).\n",
        "\n",
        "Hence based on this here is training data table for our case."
      ],
      "metadata": {
        "id": "0b0McGJdqv6h"
      }
    },
    {
      "cell_type": "markdown",
      "metadata": {
        "id": "03775d58"
      },
      "source": [
        "Based on the corpus and a window size of 3, here is the training data table:\n",
        "\n",
        "$$\n",
        "\\begin{array}{cc}\n",
        "\\text{Context Words} & \\text{Target Word} \\\\\n",
        "\\hline\n",
        "\\text{watch, for} & \\text{campusx} \\\\\n",
        "\\text{campusx, data} & \\text{for} \\\\\n",
        "\\text{for, science} & \\text{data}\n",
        "\\end{array}\n",
        "$$"
      ]
    },
    {
      "cell_type": "markdown",
      "metadata": {
        "id": "4f7ece05"
      },
      "source": [
        "In each training sample, a one-hot encoding for each word is generated. The size of this one-hot encoded vector is equal to the size of the vocabulary. This is independent of the chosen output vector size (the size of the word embeddings).\n",
        "\n",
        "- watch => [ 0, ..., 1, ..., 0 ] (where 1 is at the index corresponding to 'watch' in the vocabulary)\n",
        "- for => [ 0, ..., 1, ..., 0 ] (where 1 is at the index corresponding to 'for' in the vocabulary)\n",
        "- campusx => [ 0, ..., 1, ..., 0 ] (where 1 is at the index corresponding to 'campusx' in the vocabulary)\n",
        "\n",
        "These OHE vectors of context words are sent as input to the CBOW neural network.\n",
        "\n",
        "The input layer hence has 10(5 *2) neurons. ie, (OHE vector size * nof context words in window)"
      ]
    },
    {
      "cell_type": "markdown",
      "source": [
        "![1710832109081.png](data:image/png;base64,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)"
      ],
      "metadata": {
        "id": "dHOYJb6b1Poh"
      }
    },
    {
      "cell_type": "markdown",
      "metadata": {
        "id": "03f642c9"
      },
      "source": [
        "Let's clarify how the desired output vector size (the word embedding) is obtained.\n",
        "\n",
        "The Continuous Bag-of-Words (CBOW) model typically has a simple neural network architecture with an input layer, a hidden layer, and an output layer.\n",
        "\n",
        "1.  **Input Layer:** Receives the one-hot encoded vectors for the context words.\n",
        "2.  **Hidden Layer:** This is where the magic happens! The input vectors are multiplied by a weight matrix connecting the input layer to the hidden layer. This weight matrix has dimensions (vocabulary size) x (embedding size). The number of neurons in the hidden layer *is* the chosen embedding size. The activation of these hidden neurons represents the learned word embedding for the context.\n",
        "3.  **Output Layer:** This layer has a number of neurons equal to the vocabulary size. The activation from the hidden layer is multiplied by another weight matrix (embedding size) x (vocabulary size) connecting the hidden layer to the output layer. A softmax function is applied to the output layer to produce a probability distribution over the vocabulary, representing the model's prediction for the target word.\n",
        "\n",
        "The weight matrix between the input layer and the hidden layer (or sometimes the hidden layer and the output layer, depending on the specific implementation) is what contains the learned word embeddings. Each row in this weight matrix corresponds to a word in the vocabulary, and the row itself is the learned embedding vector of the size you specified.\n",
        "\n",
        "So, while the output layer has a size equal to the vocabulary, the word embeddings themselves are the weights learned in the connection between the input and hidden layers, where the hidden layer's size is set to your desired embedding dimension."
      ]
    },
    {
      "cell_type": "markdown",
      "source": [
        "Hence what we need from this problem is actually the weights of hidden layer which act as embedding vectors values. After training, correct embedding vector is thus obtained.\n",
        "\n",
        "# Implementation"
      ],
      "metadata": {
        "id": "7kmjtlk50PIV"
      }
    },
    {
      "cell_type": "code",
      "metadata": {
        "id": "3d284f84",
        "colab": {
          "base_uri": "https://localhost:8080/"
        },
        "outputId": "609285fc-32f6-4675-a839-c4b96687793e"
      },
      "source": [
        "# Sample corpus with multiple sentences\n",
        "corpus = [\n",
        "            \"watch campusx for \",\n",
        "            \"for data science\",\n",
        "            \"science watch campusx\"\n",
        "          ]\n",
        "\n",
        "\n",
        "cleaned_multi_sentence_corpus = [ [word for word in sentence.lower().split() ] for sentence in corpus ]\n",
        "\n",
        "\n",
        "print(\"Original multi-sentence corpus:\")\n",
        "print(corpus)\n",
        "print(\"\\nCleaned multi-sentence corpus:\")\n",
        "print(cleaned_multi_sentence_corpus)"
      ],
      "execution_count": 9,
      "outputs": [
        {
          "output_type": "stream",
          "name": "stdout",
          "text": [
            "Original multi-sentence corpus:\n",
            "['watch campusx for ', 'for data science', 'science watch campusx']\n",
            "\n",
            "Cleaned multi-sentence corpus:\n",
            "[['watch', 'campusx', 'for'], ['for', 'data', 'science'], ['science', 'watch', 'campusx']]\n"
          ]
        }
      ]
    },
    {
      "cell_type": "markdown",
      "source": [
        "**Word2Vec parameters:**\n",
        "\n",
        "  - sentences: This is the most important parameter. It takes the training corpus. As we discussed, it should be an iterable of iterables, where each inner iterable is a list of words representing a document or sentence. In the cell, cleaned_multi_sentence_corpus is passed here.\n",
        "\n",
        "  - vector_size: This parameter determines the dimensionality of the word vectors (the embeddings). You set this to 5 in the code, meaning each word will be represented by a vector of 5 numbers. A higher vector_size can capture more semantic nuances but requires more data and computation.(default 100)\n",
        "\n",
        "  - window: This is the maximum distance between the current word and the predicted word within a sentence. In your code, it's set to 3, meaning the model will consider words up to 3 positions away from the target word as context.(default 5)\n",
        "\n",
        "  - min_count: This parameter ignores all words with a total frequency lower than this value. Setting min_count=1 means that even words that appear only once in the corpus will be included in the vocabulary and get a word vector. Increasing this value can help filter out rare words and potentially improve the quality of the embeddings for more frequent words.(default=5)\n",
        "\n",
        "  - workers: This parameter specifies the number of worker threads to use for training. Setting it to 2 means that the training process will use 2 CPU cores in parallel, which can speed up training on multi-core machines.\n",
        "\n",
        "  - epochs (default = 5)\n"
      ],
      "metadata": {
        "id": "tBiguMiY9_hL"
      }
    },
    {
      "cell_type": "code",
      "source": [
        "from gensim.models import Word2Vec\n",
        "\n",
        "# min_count is 5(can be issue for small corpus). So make sure you always specify correct value to it.\n",
        "model = Word2Vec(sentences = cleaned_multi_sentence_corpus, vector_size = 5, window= 3, min_count=1, workers = 2, epochs = 20)\n",
        "\n",
        "print(model)"
      ],
      "metadata": {
        "colab": {
          "base_uri": "https://localhost:8080/"
        },
        "id": "ukXWjSEUz926",
        "outputId": "f79bbb70-1ddb-4313-c13f-bd989376fd6d"
      },
      "execution_count": 10,
      "outputs": [
        {
          "output_type": "stream",
          "name": "stdout",
          "text": [
            "Word2Vec<vocab=5, vector_size=5, alpha=0.025>\n"
          ]
        }
      ]
    },
    {
      "cell_type": "code",
      "source": [
        "model.wv[\"campusx\"]"
      ],
      "metadata": {
        "colab": {
          "base_uri": "https://localhost:8080/"
        },
        "id": "hQ5PuAm32JK4",
        "outputId": "4f69fdb5-cf78-49cb-9756-2b8c7d4a2006"
      },
      "execution_count": 11,
      "outputs": [
        {
          "output_type": "execute_result",
          "data": {
            "text/plain": [
              "array([ 0.1476101 , -0.03066943, -0.09073226,  0.13108103, -0.09720321],\n",
              "      dtype=float32)"
            ]
          },
          "metadata": {},
          "execution_count": 11
        }
      ]
    },
    {
      "cell_type": "markdown",
      "source": [
        "# Training\n",
        "\n",
        "This process adjusts the word vectors based on the context words in your corpus, allowing the model to learn the semantic and syntactic relationships between words.\n",
        "\n",
        "After initializing the Word2Vec model with Word2Vec(...), you get a model object that has the .wv attribute, allowing you to access word vectors (like model.wv[\"campusx\"]).\n",
        "\n",
        "Whether the model is already trained at this point depends on how you initialized it:\n",
        "\n",
        "  1. If you passed sentences directly in the constructor\n",
        "  Gensim automatically calls both build_vocab() and train() internally. That means the model is already trained (for the number of epochs you specified, default is 5). You don’t need to call .train() again unless you want to continue training on new data or with more epochs.\n",
        "  \n",
        "  2. If you did not pass sentences in the constructor\n",
        "  The initialization step only sets up the model’s architecture and random weights (including untrained word vectors). In this case, you must explicitly call build_vocab(corpus) and then train(corpus, total_examples=..., epochs=...) to actually train the embeddings.\n",
        "\n",
        "  In that case, we need to use model.train() method, where the learning happens. During .train(), the model iterates through your corpus and updates the weights of the neural network using an optimization algorithm (like stochastic gradient descent). This process adjusts the word vectors based on context words, allowing the model to learn semantic and syntactic relationships between words."
      ],
      "metadata": {
        "id": "M0v5FrYIJYuj"
      }
    },
    {
      "cell_type": "markdown",
      "source": [
        "\n",
        "**model.train() Parameters**\n",
        "\n",
        "  - corpus: This is the corpus you want to train the model on. It should be in the same format as the sentences parameter you passed during initialization – an iterable of iterables, where each inner iterable is a list of words. You pass your cleaned_multi_sentence_corpus here again.\n",
        "\n",
        "  - total_examples: This is the total number of documents or sentences in your training corpus. It's required by the training process to calculate the progress and adjust the learning rate. You can get this by getting the length of your corpus (e.g., len(cleaned_multi_sentence_corpus)).\n",
        "\n",
        "  - epochs: This specifies the number of iterations (epochs) over the corpus during training. A higher number of epochs means the model will see the data more times, potentially leading to better embeddings, but also taking longer to train. A common starting point is 5-20 epochs, but this can vary depending on the dataset size and complexity."
      ],
      "metadata": {
        "id": "tYqULIgGAbQ7"
      }
    },
    {
      "cell_type": "code",
      "source": [
        "# model.build_vocab(cleaned_corpus)\n",
        "# model.train(\n",
        "#     corpus = cleaned_multi_sentence_corpus,\n",
        "#     total_examples= len(cleaned_multi_sentence_corpus),\n",
        "#     epochs = 20\n",
        "#     )                        # Incase we didnt pass corpus to Constructor."
      ],
      "metadata": {
        "id": "e9mi_g8O_O7c"
      },
      "execution_count": 12,
      "outputs": []
    },
    {
      "cell_type": "markdown",
      "source": [
        "The trained word vectors are stored in a KeyedVectors instance, as model.wv:\n",
        "\n",
        "For ex :\n",
        "\n",
        "model.wv['computer']  # To get numpy vector of a word\n",
        "\n",
        "model.wv.most_similar('computer', topn=4)"
      ],
      "metadata": {
        "id": "-Nlt8LHtCo6r"
      }
    },
    {
      "cell_type": "code",
      "source": [
        "model.wv[\"data\"]"
      ],
      "metadata": {
        "colab": {
          "base_uri": "https://localhost:8080/"
        },
        "id": "D4u_MMRVC4Xc",
        "outputId": "6d2df398-a9ab-424a-9e8d-b3ae22595970"
      },
      "execution_count": 13,
      "outputs": [
        {
          "output_type": "execute_result",
          "data": {
            "text/plain": [
              "array([0.14623155, 0.10141388, 0.13516407, 0.01524903, 0.12701203],\n",
              "      dtype=float32)"
            ]
          },
          "metadata": {},
          "execution_count": 13
        }
      ]
    },
    {
      "cell_type": "markdown",
      "source": [
        "# Fine Tuning or Retraining.\n",
        "\n",
        "We can provide new training examples to update the model and finetune it. If it involves words out of current vocabulary we need to build new vocabulary first.\n",
        "Otherwise directly use model.train on new corpus."
      ],
      "metadata": {
        "id": "L0_1jq_VKgtm"
      }
    },
    {
      "cell_type": "code",
      "source": [
        "corpus2 = [\n",
        "            \"watch campusx where \",\n",
        "            \"for data science\",\n",
        "            \"science where campusx\",\n",
        "            \"watch where data\"\n",
        "          ]\n",
        "\n",
        "\n",
        "cleaned_multi_sentence_corpus2 = [ [word for word in sentence.lower().split() ] for sentence in corpus ]"
      ],
      "metadata": {
        "id": "-TtYMzF3MIEC"
      },
      "execution_count": 14,
      "outputs": []
    },
    {
      "cell_type": "code",
      "source": [
        "model.build_vocab(cleaned_multi_sentence_corpus2, update=True) # update needs to set true manually to update the vocabulary with new words from new corpus\n",
        "model.train(cleaned_multi_sentence_corpus2, total_examples=len(cleaned_multi_sentence_corpus2), epochs=20)\n"
      ],
      "metadata": {
        "colab": {
          "base_uri": "https://localhost:8080/"
        },
        "id": "cEe81IW-K5Lf",
        "outputId": "eb5af2f5-aef3-4517-b384-1954b5b7660c"
      },
      "execution_count": 15,
      "outputs": [
        {
          "output_type": "stream",
          "name": "stderr",
          "text": [
            "WARNING:gensim.models.word2vec:Effective 'alpha' higher than previous training cycles\n"
          ]
        },
        {
          "output_type": "execute_result",
          "data": {
            "text/plain": [
              "(15, 180)"
            ]
          },
          "metadata": {},
          "execution_count": 15
        }
      ]
    },
    {
      "cell_type": "code",
      "source": [
        "model.wv[\"data\"]"
      ],
      "metadata": {
        "colab": {
          "base_uri": "https://localhost:8080/"
        },
        "id": "8k2gG_cxM1zS",
        "outputId": "9d833784-631b-415c-e5ad-cd94c913a35d"
      },
      "execution_count": 16,
      "outputs": [
        {
          "output_type": "execute_result",
          "data": {
            "text/plain": [
              "array([0.14623155, 0.10141388, 0.13516407, 0.01524903, 0.12701203],\n",
              "      dtype=float32)"
            ]
          },
          "metadata": {},
          "execution_count": 16
        }
      ]
    },
    {
      "cell_type": "markdown",
      "source": [
        "# Skin-Gram\n",
        "\n"
      ],
      "metadata": {
        "id": "-Hu3EOL1dWT0"
      }
    },
    {
      "cell_type": "markdown",
      "metadata": {
        "id": "77381436"
      },
      "source": [
        "## Skip-gram\n",
        "\n",
        "In contrast to CBOW which predicts the target word from its context words, the Skip-gram model does the opposite. It predicts the context words from a given target word.\n",
        "\n",
        "- **Target Word:** The single word in the center of the window.\n",
        "- **Context Words:** The words surrounding the target word within the defined window size.\n",
        "\n",
        "Think of the neural network architecture as reversed compared to CBOW.\n",
        "\n",
        "![1710832109082.png](<binary data omitted>)\n",
        "\n",
        "The input layer takes the one-hot encoded vector of the target word. The hidden layer remains the same size as the desired embedding vector. The output layer, however, is typically a softmax layer that predicts the probability distribution of the context words within the window.\n",
        "\n",
        "Unlike CBOW,  where the word embeddings are learned and stored in the weight matrix connecting the hidden layer to the output layer,\n",
        "In SkipGram, embeddings are weights from input layer to the hidden layer. This matrix contains the vector representations for each word in the vocabulary.\n",
        "\n",
        "### CBOW vs Skip-gram: When to use which?\n",
        "\n",
        "- **CBOW (Continuous Bag-of-Words):**\n",
        "    - **Speed:** Generally faster to train than Skip-gram.\n",
        "    - **Performance:** Performs better with frequent words.\n",
        "    - **Use Cases:** Suitable for larger datasets where speed is a concern and you are less interested in the embeddings of rare words.\n",
        "\n",
        "- **Skip-gram:**\n",
        "    - **Speed:** Slower to train than CBOW.\n",
        "    - **Performance:** Performs better with infrequent words and is good at capturing semantic relationships, especially with rare words.\n",
        "    - **Use Cases:** Preferred for smaller datasets or when you need high-quality embeddings for both frequent and infrequent words, and capturing analogies (like \"king - man + woman = queen\") is important.\n",
        "\n",
        "In Gensim, you can choose between CBOW and Skip-gram using the `sg` parameter in the `Word2Vec` constructor:\n",
        "\n",
        "- `sg=0`: Uses the CBOW model (this is the default).\n",
        "- `sg=1`: Uses the Skip-gram model."
      ]
    },
    {
      "cell_type": "code",
      "metadata": {
        "colab": {
          "base_uri": "https://localhost:8080/"
        },
        "id": "ef436531",
        "outputId": "4fdf01e7-d140-433e-f29b-d7f7670df4c2"
      },
      "source": [
        "from gensim.models import Word2Vec\n",
        "\n",
        "# Example of using Skip-gram\n",
        "skipgram_model = Word2Vec(sentences = cleaned_multi_sentence_corpus, vector_size = 5, window= 3, min_count=1, workers = 2, epochs = 20, sg=1) # sg=1 for Skip-gram\n",
        "\n",
        "print(skipgram_model)\n",
        "print(skipgram_model.wv[\"campusx\"])"
      ],
      "execution_count": 17,
      "outputs": [
        {
          "output_type": "stream",
          "name": "stdout",
          "text": [
            "Word2Vec<vocab=5, vector_size=5, alpha=0.025>\n",
            "[ 0.1476101  -0.03066943 -0.09073226  0.13108103 -0.09720321]\n"
          ]
        }
      ]
    },
    {
      "cell_type": "code",
      "source": [],
      "metadata": {
        "id": "KKeIq_wWM7Lc"
      },
      "execution_count": 17,
      "outputs": []
    }
  ]
}