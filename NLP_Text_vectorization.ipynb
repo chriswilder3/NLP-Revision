{
  "nbformat": 4,
  "nbformat_minor": 0,
  "metadata": {
    "colab": {
      "provenance": []
    },
    "kernelspec": {
      "name": "python3",
      "display_name": "Python 3"
    },
    "language_info": {
      "name": "python"
    }
  },
  "cells": [
    {
      "cell_type": "markdown",
      "source": [
        "# Bag of Words"
      ],
      "metadata": {
        "id": "prOaGdDXQoMm"
      }
    },
    {
      "cell_type": "markdown",
      "source": [
        "Its technique, where count/frequency of each word in the document(sentence) is considered. The feature matrix is prepared based on vocabulary."
      ],
      "metadata": {
        "id": "JqOXv6yDQtR0"
      }
    },
    {
      "cell_type": "code",
      "execution_count": 1,
      "metadata": {
        "id": "JNYmlqLJNt9L"
      },
      "outputs": [],
      "source": [
        "import pandas as pd\n",
        "\n",
        "df = pd.DataFrame({\n",
        "    \"text\": [\"people watch campusx\", \"campusx watch campusx\", \"people write comment\", \"campusx write comment\"]\n",
        "})"
      ]
    },
    {
      "cell_type": "code",
      "source": [
        "df"
      ],
      "metadata": {
        "colab": {
          "base_uri": "https://localhost:8080/",
          "height": 175
        },
        "id": "HnKQ427wRni8",
        "outputId": "cd5eea40-cfeb-4727-d276-0b04599f6516"
      },
      "execution_count": 2,
      "outputs": [
        {
          "output_type": "execute_result",
          "data": {
            "text/plain": [
              "                    text\n",
              "0   people watch campusx\n",
              "1  campusx watch campusx\n",
              "2   people write comment\n",
              "3  campusx write comment"
            ],
            "text/html": [
              "\n",
              "  <div id=\"df-cb713194-bbfa-4aaf-b9fe-2a2327bb5a17\" class=\"colab-df-container\">\n",
              "    <div>\n",
              "<style scoped>\n",
              "    .dataframe tbody tr th:only-of-type {\n",
              "        vertical-align: middle;\n",
              "    }\n",
              "\n",
              "    .dataframe tbody tr th {\n",
              "        vertical-align: top;\n",
              "    }\n",
              "\n",
              "    .dataframe thead th {\n",
              "        text-align: right;\n",
              "    }\n",
              "</style>\n",
              "<table border=\"1\" class=\"dataframe\">\n",
              "  <thead>\n",
              "    <tr style=\"text-align: right;\">\n",
              "      <th></th>\n",
              "      <th>text</th>\n",
              "    </tr>\n",
              "  </thead>\n",
              "  <tbody>\n",
              "    <tr>\n",
              "      <th>0</th>\n",
              "      <td>people watch campusx</td>\n",
              "    </tr>\n",
              "    <tr>\n",
              "      <th>1</th>\n",
              "      <td>campusx watch campusx</td>\n",
              "    </tr>\n",
              "    <tr>\n",
              "      <th>2</th>\n",
              "      <td>people write comment</td>\n",
              "    </tr>\n",
              "    <tr>\n",
              "      <th>3</th>\n",
              "      <td>campusx write comment</td>\n",
              "    </tr>\n",
              "  </tbody>\n",
              "</table>\n",
              "</div>\n",
              "    <div class=\"colab-df-buttons\">\n",
              "\n",
              "  <div class=\"colab-df-container\">\n",
              "    <button class=\"colab-df-convert\" onclick=\"convertToInteractive('df-cb713194-bbfa-4aaf-b9fe-2a2327bb5a17')\"\n",
              "            title=\"Convert this dataframe to an interactive table.\"\n",
              "            style=\"display:none;\">\n",
              "\n",
              "  <svg xmlns=\"http://www.w3.org/2000/svg\" height=\"24px\" viewBox=\"0 -960 960 960\">\n",
              "    <path d=\"M120-120v-720h720v720H120Zm60-500h600v-160H180v160Zm220 220h160v-160H400v160Zm0 220h160v-160H400v160ZM180-400h160v-160H180v160Zm440 0h160v-160H620v160ZM180-180h160v-160H180v160Zm440 0h160v-160H620v160Z\"/>\n",
              "  </svg>\n",
              "    </button>\n",
              "\n",
              "  <style>\n",
              "    .colab-df-container {\n",
              "      display:flex;\n",
              "      gap: 12px;\n",
              "    }\n",
              "\n",
              "    .colab-df-convert {\n",
              "      background-color: #E8F0FE;\n",
              "      border: none;\n",
              "      border-radius: 50%;\n",
              "      cursor: pointer;\n",
              "      display: none;\n",
              "      fill: #1967D2;\n",
              "      height: 32px;\n",
              "      padding: 0 0 0 0;\n",
              "      width: 32px;\n",
              "    }\n",
              "\n",
              "    .colab-df-convert:hover {\n",
              "      background-color: #E2EBFA;\n",
              "      box-shadow: 0px 1px 2px rgba(60, 64, 67, 0.3), 0px 1px 3px 1px rgba(60, 64, 67, 0.15);\n",
              "      fill: #174EA6;\n",
              "    }\n",
              "\n",
              "    .colab-df-buttons div {\n",
              "      margin-bottom: 4px;\n",
              "    }\n",
              "\n",
              "    [theme=dark] .colab-df-convert {\n",
              "      background-color: #3B4455;\n",
              "      fill: #D2E3FC;\n",
              "    }\n",
              "\n",
              "    [theme=dark] .colab-df-convert:hover {\n",
              "      background-color: #434B5C;\n",
              "      box-shadow: 0px 1px 3px 1px rgba(0, 0, 0, 0.15);\n",
              "      filter: drop-shadow(0px 1px 2px rgba(0, 0, 0, 0.3));\n",
              "      fill: #FFFFFF;\n",
              "    }\n",
              "  </style>\n",
              "\n",
              "    <script>\n",
              "      const buttonEl =\n",
              "        document.querySelector('#df-cb713194-bbfa-4aaf-b9fe-2a2327bb5a17 button.colab-df-convert');\n",
              "      buttonEl.style.display =\n",
              "        google.colab.kernel.accessAllowed ? 'block' : 'none';\n",
              "\n",
              "      async function convertToInteractive(key) {\n",
              "        const element = document.querySelector('#df-cb713194-bbfa-4aaf-b9fe-2a2327bb5a17');\n",
              "        const dataTable =\n",
              "          await google.colab.kernel.invokeFunction('convertToInteractive',\n",
              "                                                    [key], {});\n",
              "        if (!dataTable) return;\n",
              "\n",
              "        const docLinkHtml = 'Like what you see? Visit the ' +\n",
              "          '<a target=\"_blank\" href=https://colab.research.google.com/notebooks/data_table.ipynb>data table notebook</a>'\n",
              "          + ' to learn more about interactive tables.';\n",
              "        element.innerHTML = '';\n",
              "        dataTable['output_type'] = 'display_data';\n",
              "        await google.colab.output.renderOutput(dataTable, element);\n",
              "        const docLink = document.createElement('div');\n",
              "        docLink.innerHTML = docLinkHtml;\n",
              "        element.appendChild(docLink);\n",
              "      }\n",
              "    </script>\n",
              "  </div>\n",
              "\n",
              "\n",
              "    <div id=\"df-364d0ca2-4f81-4132-a38a-9782cd65881b\">\n",
              "      <button class=\"colab-df-quickchart\" onclick=\"quickchart('df-364d0ca2-4f81-4132-a38a-9782cd65881b')\"\n",
              "                title=\"Suggest charts\"\n",
              "                style=\"display:none;\">\n",
              "\n",
              "<svg xmlns=\"http://www.w3.org/2000/svg\" height=\"24px\"viewBox=\"0 0 24 24\"\n",
              "     width=\"24px\">\n",
              "    <g>\n",
              "        <path d=\"M19 3H5c-1.1 0-2 .9-2 2v14c0 1.1.9 2 2 2h14c1.1 0 2-.9 2-2V5c0-1.1-.9-2-2-2zM9 17H7v-7h2v7zm4 0h-2V7h2v10zm4 0h-2v-4h2v4z\"/>\n",
              "    </g>\n",
              "</svg>\n",
              "      </button>\n",
              "\n",
              "<style>\n",
              "  .colab-df-quickchart {\n",
              "      --bg-color: #E8F0FE;\n",
              "      --fill-color: #1967D2;\n",
              "      --hover-bg-color: #E2EBFA;\n",
              "      --hover-fill-color: #174EA6;\n",
              "      --disabled-fill-color: #AAA;\n",
              "      --disabled-bg-color: #DDD;\n",
              "  }\n",
              "\n",
              "  [theme=dark] .colab-df-quickchart {\n",
              "      --bg-color: #3B4455;\n",
              "      --fill-color: #D2E3FC;\n",
              "      --hover-bg-color: #434B5C;\n",
              "      --hover-fill-color: #FFFFFF;\n",
              "      --disabled-bg-color: #3B4455;\n",
              "      --disabled-fill-color: #666;\n",
              "  }\n",
              "\n",
              "  .colab-df-quickchart {\n",
              "    background-color: var(--bg-color);\n",
              "    border: none;\n",
              "    border-radius: 50%;\n",
              "    cursor: pointer;\n",
              "    display: none;\n",
              "    fill: var(--fill-color);\n",
              "    height: 32px;\n",
              "    padding: 0;\n",
              "    width: 32px;\n",
              "  }\n",
              "\n",
              "  .colab-df-quickchart:hover {\n",
              "    background-color: var(--hover-bg-color);\n",
              "    box-shadow: 0 1px 2px rgba(60, 64, 67, 0.3), 0 1px 3px 1px rgba(60, 64, 67, 0.15);\n",
              "    fill: var(--button-hover-fill-color);\n",
              "  }\n",
              "\n",
              "  .colab-df-quickchart-complete:disabled,\n",
              "  .colab-df-quickchart-complete:disabled:hover {\n",
              "    background-color: var(--disabled-bg-color);\n",
              "    fill: var(--disabled-fill-color);\n",
              "    box-shadow: none;\n",
              "  }\n",
              "\n",
              "  .colab-df-spinner {\n",
              "    border: 2px solid var(--fill-color);\n",
              "    border-color: transparent;\n",
              "    border-bottom-color: var(--fill-color);\n",
              "    animation:\n",
              "      spin 1s steps(1) infinite;\n",
              "  }\n",
              "\n",
              "  @keyframes spin {\n",
              "    0% {\n",
              "      border-color: transparent;\n",
              "      border-bottom-color: var(--fill-color);\n",
              "      border-left-color: var(--fill-color);\n",
              "    }\n",
              "    20% {\n",
              "      border-color: transparent;\n",
              "      border-left-color: var(--fill-color);\n",
              "      border-top-color: var(--fill-color);\n",
              "    }\n",
              "    30% {\n",
              "      border-color: transparent;\n",
              "      border-left-color: var(--fill-color);\n",
              "      border-top-color: var(--fill-color);\n",
              "      border-right-color: var(--fill-color);\n",
              "    }\n",
              "    40% {\n",
              "      border-color: transparent;\n",
              "      border-right-color: var(--fill-color);\n",
              "      border-top-color: var(--fill-color);\n",
              "    }\n",
              "    60% {\n",
              "      border-color: transparent;\n",
              "      border-right-color: var(--fill-color);\n",
              "    }\n",
              "    80% {\n",
              "      border-color: transparent;\n",
              "      border-right-color: var(--fill-color);\n",
              "      border-bottom-color: var(--fill-color);\n",
              "    }\n",
              "    90% {\n",
              "      border-color: transparent;\n",
              "      border-bottom-color: var(--fill-color);\n",
              "    }\n",
              "  }\n",
              "</style>\n",
              "\n",
              "      <script>\n",
              "        async function quickchart(key) {\n",
              "          const quickchartButtonEl =\n",
              "            document.querySelector('#' + key + ' button');\n",
              "          quickchartButtonEl.disabled = true;  // To prevent multiple clicks.\n",
              "          quickchartButtonEl.classList.add('colab-df-spinner');\n",
              "          try {\n",
              "            const charts = await google.colab.kernel.invokeFunction(\n",
              "                'suggestCharts', [key], {});\n",
              "          } catch (error) {\n",
              "            console.error('Error during call to suggestCharts:', error);\n",
              "          }\n",
              "          quickchartButtonEl.classList.remove('colab-df-spinner');\n",
              "          quickchartButtonEl.classList.add('colab-df-quickchart-complete');\n",
              "        }\n",
              "        (() => {\n",
              "          let quickchartButtonEl =\n",
              "            document.querySelector('#df-364d0ca2-4f81-4132-a38a-9782cd65881b button');\n",
              "          quickchartButtonEl.style.display =\n",
              "            google.colab.kernel.accessAllowed ? 'block' : 'none';\n",
              "        })();\n",
              "      </script>\n",
              "    </div>\n",
              "\n",
              "  <div id=\"id_9a763bdb-15ce-4cfe-ad10-90f047b46fc0\">\n",
              "    <style>\n",
              "      .colab-df-generate {\n",
              "        background-color: #E8F0FE;\n",
              "        border: none;\n",
              "        border-radius: 50%;\n",
              "        cursor: pointer;\n",
              "        display: none;\n",
              "        fill: #1967D2;\n",
              "        height: 32px;\n",
              "        padding: 0 0 0 0;\n",
              "        width: 32px;\n",
              "      }\n",
              "\n",
              "      .colab-df-generate:hover {\n",
              "        background-color: #E2EBFA;\n",
              "        box-shadow: 0px 1px 2px rgba(60, 64, 67, 0.3), 0px 1px 3px 1px rgba(60, 64, 67, 0.15);\n",
              "        fill: #174EA6;\n",
              "      }\n",
              "\n",
              "      [theme=dark] .colab-df-generate {\n",
              "        background-color: #3B4455;\n",
              "        fill: #D2E3FC;\n",
              "      }\n",
              "\n",
              "      [theme=dark] .colab-df-generate:hover {\n",
              "        background-color: #434B5C;\n",
              "        box-shadow: 0px 1px 3px 1px rgba(0, 0, 0, 0.15);\n",
              "        filter: drop-shadow(0px 1px 2px rgba(0, 0, 0, 0.3));\n",
              "        fill: #FFFFFF;\n",
              "      }\n",
              "    </style>\n",
              "    <button class=\"colab-df-generate\" onclick=\"generateWithVariable('df')\"\n",
              "            title=\"Generate code using this dataframe.\"\n",
              "            style=\"display:none;\">\n",
              "\n",
              "  <svg xmlns=\"http://www.w3.org/2000/svg\" height=\"24px\"viewBox=\"0 0 24 24\"\n",
              "       width=\"24px\">\n",
              "    <path d=\"M7,19H8.4L18.45,9,17,7.55,7,17.6ZM5,21V16.75L18.45,3.32a2,2,0,0,1,2.83,0l1.4,1.43a1.91,1.91,0,0,1,.58,1.4,1.91,1.91,0,0,1-.58,1.4L9.25,21ZM18.45,9,17,7.55Zm-12,3A5.31,5.31,0,0,0,4.9,8.1,5.31,5.31,0,0,0,1,6.5,5.31,5.31,0,0,0,4.9,4.9,5.31,5.31,0,0,0,6.5,1,5.31,5.31,0,0,0,8.1,4.9,5.31,5.31,0,0,0,12,6.5,5.46,5.46,0,0,0,6.5,12Z\"/>\n",
              "  </svg>\n",
              "    </button>\n",
              "    <script>\n",
              "      (() => {\n",
              "      const buttonEl =\n",
              "        document.querySelector('#id_9a763bdb-15ce-4cfe-ad10-90f047b46fc0 button.colab-df-generate');\n",
              "      buttonEl.style.display =\n",
              "        google.colab.kernel.accessAllowed ? 'block' : 'none';\n",
              "\n",
              "      buttonEl.onclick = () => {\n",
              "        google.colab.notebook.generateWithVariable('df');\n",
              "      }\n",
              "      })();\n",
              "    </script>\n",
              "  </div>\n",
              "\n",
              "    </div>\n",
              "  </div>\n"
            ],
            "application/vnd.google.colaboratory.intrinsic+json": {
              "type": "dataframe",
              "variable_name": "df",
              "summary": "{\n  \"name\": \"df\",\n  \"rows\": 4,\n  \"fields\": [\n    {\n      \"column\": \"text\",\n      \"properties\": {\n        \"dtype\": \"string\",\n        \"num_unique_values\": 4,\n        \"samples\": [\n          \"campusx watch campusx\",\n          \"campusx write comment\",\n          \"people watch campusx\"\n        ],\n        \"semantic_type\": \"\",\n        \"description\": \"\"\n      }\n    }\n  ]\n}"
            }
          },
          "metadata": {},
          "execution_count": 2
        }
      ]
    },
    {
      "cell_type": "markdown",
      "source": [
        "Now Lets find the corpus and vocabulary of this"
      ],
      "metadata": {
        "id": "sbImErKtRtLb"
      }
    },
    {
      "cell_type": "code",
      "source": [
        "corpus = \" \".join([ sentence for sentence in df.text])\n",
        "corpus"
      ],
      "metadata": {
        "colab": {
          "base_uri": "https://localhost:8080/",
          "height": 36
        },
        "id": "075M-9Z_Rorr",
        "outputId": "57eec3aa-5a44-45c4-f699-aa61fe655fec"
      },
      "execution_count": 3,
      "outputs": [
        {
          "output_type": "execute_result",
          "data": {
            "text/plain": [
              "'people watch campusx campusx watch campusx people write comment campusx write comment'"
            ],
            "application/vnd.google.colaboratory.intrinsic+json": {
              "type": "string"
            }
          },
          "metadata": {},
          "execution_count": 3
        }
      ]
    },
    {
      "cell_type": "code",
      "source": [
        "vocabulary = list(set(corpus.split()))\n",
        "vocabulary"
      ],
      "metadata": {
        "colab": {
          "base_uri": "https://localhost:8080/"
        },
        "id": "f3rgpHkoSFSK",
        "outputId": "3b4d95f0-8368-4330-c4b1-de872fe620e1"
      },
      "execution_count": 4,
      "outputs": [
        {
          "output_type": "execute_result",
          "data": {
            "text/plain": [
              "['campusx', 'watch', 'comment', 'people', 'write']"
            ]
          },
          "metadata": {},
          "execution_count": 4
        }
      ]
    },
    {
      "cell_type": "markdown",
      "source": [
        "The bag of words : creates a feature matrix, based on this vocabulary. A vector based on the vocabulary where each word's frequency in the document is mentioned such a vector becomes associated with that document, Hence is its vector representation."
      ],
      "metadata": {
        "id": "i3gQyL37SfEt"
      }
    },
    {
      "cell_type": "code",
      "source": [
        "feature_matrix :list[list[int]] =[]\n",
        "for sentence in df.text:\n",
        "  vector = []\n",
        "  for word in vocabulary:\n",
        "    vector.append(sentence.count(word))\n",
        "  print(sentence, \" -> \", vector)\n",
        "  feature_matrix.append(vector)"
      ],
      "metadata": {
        "colab": {
          "base_uri": "https://localhost:8080/"
        },
        "id": "__dUYkqdSac2",
        "outputId": "ef42bf81-809d-427a-d155-9f34e04092c9"
      },
      "execution_count": 5,
      "outputs": [
        {
          "output_type": "stream",
          "name": "stdout",
          "text": [
            "people watch campusx  ->  [1, 1, 0, 1, 0]\n",
            "campusx watch campusx  ->  [2, 1, 0, 0, 0]\n",
            "people write comment  ->  [0, 0, 1, 1, 1]\n",
            "campusx write comment  ->  [1, 0, 1, 0, 1]\n"
          ]
        }
      ]
    },
    {
      "cell_type": "code",
      "source": [
        "feature_matrix"
      ],
      "metadata": {
        "colab": {
          "base_uri": "https://localhost:8080/"
        },
        "id": "7JHTC30WUhve",
        "outputId": "a9403242-db71-482e-a9e3-9229798fe72a"
      },
      "execution_count": 6,
      "outputs": [
        {
          "output_type": "execute_result",
          "data": {
            "text/plain": [
              "[[1, 1, 0, 1, 0], [2, 1, 0, 0, 0], [0, 0, 1, 1, 1], [1, 0, 1, 0, 1]]"
            ]
          },
          "metadata": {},
          "execution_count": 6
        }
      ]
    },
    {
      "cell_type": "markdown",
      "source": [
        "# SkLearn Based BoW ( Count Vectorizer)"
      ],
      "metadata": {
        "id": "7uPmx0fvVnab"
      }
    },
    {
      "cell_type": "markdown",
      "source": [
        "Note that since All vectorization of text data are kind of ways to convert textual data into numerical features, they can be called as Feature Extraction. Hence sklearn saves this under **sklearn.feature_extraction.text module**"
      ],
      "metadata": {
        "id": "tr_6M28tV8jb"
      }
    },
    {
      "cell_type": "code",
      "source": [
        "from sklearn.feature_extraction.text import CountVectorizer\n",
        "\n",
        "vectorizer = CountVectorizer()\n",
        "\n",
        "feature_matrix = vectorizer.fit_transform(df.text) # Since it fits the data to matrix using vocabulary, for the tables the transformed data is readily avaiable.\n",
        "feature_matrix"
      ],
      "metadata": {
        "colab": {
          "base_uri": "https://localhost:8080/"
        },
        "id": "EH5NnWTXVvq7",
        "outputId": "59a3aa4b-cee9-4d35-ba34-b270768abf2a"
      },
      "execution_count": 7,
      "outputs": [
        {
          "output_type": "execute_result",
          "data": {
            "text/plain": [
              "<Compressed Sparse Row sparse matrix of dtype 'int64'\n",
              "\twith 11 stored elements and shape (4, 5)>"
            ]
          },
          "metadata": {},
          "execution_count": 7
        }
      ]
    },
    {
      "cell_type": "code",
      "source": [
        "# Its a sparse matrix convert to straight matrix/arrays with .toarray()\n",
        "feature_matrix = feature_matrix.toarray()\n",
        "feature_matrix"
      ],
      "metadata": {
        "colab": {
          "base_uri": "https://localhost:8080/"
        },
        "id": "uRVeI6ioW3hJ",
        "outputId": "365ec8fd-465a-44a3-8fda-5a46f0afe69a"
      },
      "execution_count": 8,
      "outputs": [
        {
          "output_type": "execute_result",
          "data": {
            "text/plain": [
              "array([[1, 0, 1, 1, 0],\n",
              "       [2, 0, 0, 1, 0],\n",
              "       [0, 1, 1, 0, 1],\n",
              "       [1, 1, 0, 0, 1]])"
            ]
          },
          "metadata": {},
          "execution_count": 8
        }
      ]
    },
    {
      "cell_type": "markdown",
      "source": [
        "On the first look, It seems different, Lets examine the vocabulary. ( Remember : vocabulary_)"
      ],
      "metadata": {
        "id": "PLDPFczkXSCw"
      }
    },
    {
      "cell_type": "code",
      "source": [
        "vocabulary2 = vectorizer.vocabulary_\n",
        "vocabulary2"
      ],
      "metadata": {
        "colab": {
          "base_uri": "https://localhost:8080/"
        },
        "id": "4PKWIXgCXOCV",
        "outputId": "1bbdfe6a-a579-46db-fcac-b916d8802196"
      },
      "execution_count": 23,
      "outputs": [
        {
          "output_type": "execute_result",
          "data": {
            "text/plain": [
              "{'people': 2, 'watch': 3, 'campusx': 0, 'write': 4, 'comment': 1}"
            ]
          },
          "metadata": {},
          "execution_count": 23
        }
      ]
    },
    {
      "cell_type": "markdown",
      "source": [
        "Lets convert it to readable order (vals in dict represent index of the word in vector formed by vocabulary)"
      ],
      "metadata": {
        "id": "QwrDmSllsH4Z"
      }
    },
    {
      "cell_type": "code",
      "source": [
        "vocabulary2 = sorted(vocabulary2.items(), key=lambda x:x[1]) # Sort based on values of dict\n",
        "\n",
        "vocabulary2"
      ],
      "metadata": {
        "colab": {
          "base_uri": "https://localhost:8080/"
        },
        "id": "P-7WMva4sdEj",
        "outputId": "3a6afd28-d9a8-4a98-cd29-8d58de31dbad"
      },
      "execution_count": 24,
      "outputs": [
        {
          "output_type": "execute_result",
          "data": {
            "text/plain": [
              "[('campusx', 0), ('comment', 1), ('people', 2), ('watch', 3), ('write', 4)]"
            ]
          },
          "metadata": {},
          "execution_count": 24
        }
      ]
    },
    {
      "cell_type": "code",
      "source": [
        "vocabulary2 = [x[0] for x in vocabulary2]\n",
        "vocabulary2"
      ],
      "metadata": {
        "colab": {
          "base_uri": "https://localhost:8080/"
        },
        "id": "O3dXB6JTrpHk",
        "outputId": "d8e9f5b3-031b-4fc2-8b92-637a064be41f"
      },
      "execution_count": 25,
      "outputs": [
        {
          "output_type": "execute_result",
          "data": {
            "text/plain": [
              "['campusx', 'comment', 'people', 'watch', 'write']"
            ]
          },
          "metadata": {},
          "execution_count": 25
        }
      ]
    },
    {
      "cell_type": "code",
      "source": [
        "# Compare with our prev vocabulary\n",
        "vocabulary"
      ],
      "metadata": {
        "colab": {
          "base_uri": "https://localhost:8080/"
        },
        "id": "b-hf5qdKXccF",
        "outputId": "b0061e49-1543-4223-cdea-1650dab343e4"
      },
      "execution_count": 10,
      "outputs": [
        {
          "output_type": "execute_result",
          "data": {
            "text/plain": [
              "['campusx', 'watch', 'comment', 'people', 'write']"
            ]
          },
          "metadata": {},
          "execution_count": 10
        }
      ]
    },
    {
      "cell_type": "markdown",
      "source": [
        "Yes the order has been reversed. Its okay because, BoW is ignores **order of words in vocabulary**"
      ],
      "metadata": {
        "id": "AH2OOvRQYAKl"
      }
    },
    {
      "cell_type": "code",
      "source": [
        "# We can find vectors of new sentences also.\n",
        "\n",
        "vectorizer.transform([\"campusx watch campusx write comment\"]).toarray() # Cross verify it using mapping dictionary of vocabulary_"
      ],
      "metadata": {
        "id": "vnywZH7BX2T0",
        "colab": {
          "base_uri": "https://localhost:8080/"
        },
        "outputId": "24e156c2-2420-438b-c2da-efa184e427ad"
      },
      "execution_count": 11,
      "outputs": [
        {
          "output_type": "execute_result",
          "data": {
            "text/plain": [
              "array([[2, 1, 0, 1, 1]])"
            ]
          },
          "metadata": {},
          "execution_count": 11
        }
      ]
    },
    {
      "cell_type": "code",
      "source": [
        "vocabulary2"
      ],
      "metadata": {
        "colab": {
          "base_uri": "https://localhost:8080/"
        },
        "id": "l4iMLzocu3OD",
        "outputId": "e6591438-9536-4bc3-afc8-98bf1210af98"
      },
      "execution_count": 26,
      "outputs": [
        {
          "output_type": "execute_result",
          "data": {
            "text/plain": [
              "['campusx', 'comment', 'people', 'watch', 'write']"
            ]
          },
          "metadata": {},
          "execution_count": 26
        }
      ]
    },
    {
      "cell_type": "code",
      "source": [
        "# What if we include new \"Out of Vocbulary\" words sentences\n",
        "vectorizer.transform([\"campusx not comment and people still watch \"]).toarray()"
      ],
      "metadata": {
        "colab": {
          "base_uri": "https://localhost:8080/"
        },
        "id": "hR-M-dWQvcDZ",
        "outputId": "226c0c49-11c8-42ea-d929-f8bed27bc1d1"
      },
      "execution_count": 29,
      "outputs": [
        {
          "output_type": "execute_result",
          "data": {
            "text/plain": [
              "array([[1, 1, 1, 1, 0]])"
            ]
          },
          "metadata": {},
          "execution_count": 29
        }
      ]
    },
    {
      "cell_type": "markdown",
      "source": [
        "As we can see, the frequencies of words inside the vocabulary are correctly recorded. But out of vocabulary words are completely ignored."
      ],
      "metadata": {
        "id": "ab6aAzllv-AE"
      }
    },
    {
      "cell_type": "markdown",
      "metadata": {
        "id": "45da22cd"
      },
      "source": [
        "## Advantages and Disadvantages of Bag of Words (BoW)\n",
        "\n",
        "### Advantages:\n",
        "\n",
        "*   **Simplicity:** BoW is a straightforward and easy-to-understand model for text representation.\n",
        "*   **Fixed-size vectors:** It transforms variable-length text into fixed-size numerical vectors, making it suitable for machine learning algorithms.\n",
        "*   **Computational efficiency:** The process of creating BoW vectors is relatively fast.\n",
        "\n",
        "### Disadvantages:\n",
        "\n",
        "*   **Lack of semantic meaning:** BoW ignores the order of words and their context, losing semantic relationships and meaning (e.g., \"good\" and \"not good\" might have similar vector representations if the word \"good\" appears).\n",
        "*   **Out of vocabulary words:** It cannot handle words that were not present in the vocabulary during training, ignoring them completely.\n",
        "*   **Sparsity:** For large vocabularies, the feature matrix can be very sparse (mostly zeros), which can be inefficient for storage and computation.\n",
        "*   **Unordering (Lack of context):** As mentioned in the lack of semantic meaning, the disregard for word order means that phrases and sentences with different meanings but the same words will have identical representations."
      ]
    },
    {
      "cell_type": "markdown",
      "source": [
        "# N-Grams"
      ],
      "metadata": {
        "id": "4emKWWKWxpPM"
      }
    },
    {
      "cell_type": "code",
      "source": [],
      "metadata": {
        "id": "I5FoAwKcv1tC"
      },
      "execution_count": null,
      "outputs": []
    },
    {
      "cell_type": "markdown",
      "metadata": {
        "id": "ad6ba922"
      },
      "source": [
        "## N-grams\n",
        "\n",
        "N-grams are contiguous sequences of n items from a given sample of text or speech. Unlike Bag of Words, which treats each word independently, N-grams consider the sequence of words. This helps to capture some of the local context and word order, addressing one of the major drawbacks of BoW.\n",
        "\n",
        "For example, a bigram (n=2) considers pairs of adjacent words, while a trigram (n=3) considers sequences of three adjacent words.\n",
        "\n",
        "Let's look at an example using bigrams with the sentence \"people watch campusx\"."
      ]
    },
    {
      "cell_type": "code",
      "source": [
        "df[\"text\"]"
      ],
      "metadata": {
        "colab": {
          "base_uri": "https://localhost:8080/",
          "height": 209
        },
        "id": "3pJPMrVUzLt0",
        "outputId": "bc1c452f-22d9-44c8-e109-b3334f7cec7f"
      },
      "execution_count": 33,
      "outputs": [
        {
          "output_type": "execute_result",
          "data": {
            "text/plain": [
              "0     people watch campusx\n",
              "1    campusx watch campusx\n",
              "2     people write comment\n",
              "3    campusx write comment\n",
              "Name: text, dtype: object"
            ],
            "text/html": [
              "<div>\n",
              "<style scoped>\n",
              "    .dataframe tbody tr th:only-of-type {\n",
              "        vertical-align: middle;\n",
              "    }\n",
              "\n",
              "    .dataframe tbody tr th {\n",
              "        vertical-align: top;\n",
              "    }\n",
              "\n",
              "    .dataframe thead th {\n",
              "        text-align: right;\n",
              "    }\n",
              "</style>\n",
              "<table border=\"1\" class=\"dataframe\">\n",
              "  <thead>\n",
              "    <tr style=\"text-align: right;\">\n",
              "      <th></th>\n",
              "      <th>text</th>\n",
              "    </tr>\n",
              "  </thead>\n",
              "  <tbody>\n",
              "    <tr>\n",
              "      <th>0</th>\n",
              "      <td>people watch campusx</td>\n",
              "    </tr>\n",
              "    <tr>\n",
              "      <th>1</th>\n",
              "      <td>campusx watch campusx</td>\n",
              "    </tr>\n",
              "    <tr>\n",
              "      <th>2</th>\n",
              "      <td>people write comment</td>\n",
              "    </tr>\n",
              "    <tr>\n",
              "      <th>3</th>\n",
              "      <td>campusx write comment</td>\n",
              "    </tr>\n",
              "  </tbody>\n",
              "</table>\n",
              "</div><br><label><b>dtype:</b> object</label>"
            ]
          },
          "metadata": {},
          "execution_count": 33
        }
      ]
    },
    {
      "cell_type": "markdown",
      "source": [
        "Note that each bigram must be formed from single document only. Dont start at the end of 1st document and then end with next documents words.\n",
        "Ex : 1st bigram : people watch,\n",
        "2nd bigram : watch complex.\n",
        "Now dont pick 3rd one as campusx campusx.NO.\n",
        "Instead directly go 2nd document to write. 3rd bigram : campusx watch.\n",
        "Now watch campusx is already done, just like words in vocabulary, n-grams are unique, hence skip it. Now again dont cmapusx people mixing documents. go to 3rd document.\n",
        "4th bigram : people write. etc\n"
      ],
      "metadata": {
        "id": "6E46HeaI0NKk"
      }
    },
    {
      "cell_type": "markdown",
      "metadata": {
        "id": "abc3764f"
      },
      "source": [
        "When forming N-grams across multiple documents, each document is processed independently. N-grams are generated from contiguous sequences within a *single* document. We do not form N-grams by combining words from the end of one document and the beginning of the next. The vocabulary of N-grams is built from all unique N-grams found across all documents in the corpus."
      ]
    },
    {
      "cell_type": "markdown",
      "source": [
        "**Implementation of N-grams**\n",
        "\n",
        " Just pass \"ngram_range\" parameter with desired ngram count to CountVectorizer. For bigrams ngram_range = (2,2) . For trigrams, ngram_range=3 etc"
      ],
      "metadata": {
        "id": "ctq7s4rR4TIF"
      }
    },
    {
      "cell_type": "markdown",
      "source": [
        "We can combine 1-grams, 2-grams, 3-grams etc together to form complex vocabulary. In parameter ngram_range = (a, b). a refers start of n-grams we want to consider, b- refers to end of n-grams to consider. For ex : if ngram_range = (1,2), The vocabulary will have unigrams and bigrams both. If (2,3) then bigrams and trigrams will be considered. If (1,3) start from 1-grams go upto 3-grams."
      ],
      "metadata": {
        "id": "3DMFuCYj5fP-"
      }
    },
    {
      "cell_type": "markdown",
      "source": [
        "Hence Unigrams are nothing but Bag of Words as we have seen"
      ],
      "metadata": {
        "id": "BAOhG8uc63HI"
      }
    },
    {
      "cell_type": "code",
      "metadata": {
        "colab": {
          "base_uri": "https://localhost:8080/"
        },
        "id": "267da252",
        "outputId": "fd1f5ac8-98c3-4cb0-f146-b792b76b33bd"
      },
      "source": [
        "from sklearn.feature_extraction.text import CountVectorizer\n",
        "\n",
        "# Using bigrams (n=2)\n",
        "bigram_vectorizer = CountVectorizer(ngram_range=(2, 2))\n",
        "\n",
        "bigram_matrix = bigram_vectorizer.fit_transform(df['text'])\n",
        "\n",
        "print(\"Bigram vocabulary:\\n\", bigram_vectorizer.vocabulary_)\n",
        "print(\"Bigram matrix:\\n\", bigram_matrix.toarray())"
      ],
      "execution_count": 34,
      "outputs": [
        {
          "output_type": "stream",
          "name": "stdout",
          "text": [
            "Bigram vocabulary:\n",
            " {'people watch': 2, 'watch campusx': 4, 'campusx watch': 0, 'people write': 3, 'write comment': 5, 'campusx write': 1}\n",
            "Bigram matrix:\n",
            " [[0 0 1 0 1 0]\n",
            " [1 0 0 0 1 0]\n",
            " [0 0 0 1 0 1]\n",
            " [0 1 0 0 0 1]]\n"
          ]
        }
      ]
    },
    {
      "cell_type": "code",
      "source": [
        "# Lets see mixed n-grams\n",
        "\n",
        "vec = CountVectorizer(ngram_range=(1,3))\n",
        "\n",
        "vec.fit_transform(df.text)\n",
        "vec.vocabulary_"
      ],
      "metadata": {
        "colab": {
          "base_uri": "https://localhost:8080/"
        },
        "id": "C8Y3kB6Xy3Y5",
        "outputId": "70a852e1-351a-4da2-f8a2-54e94206c202"
      },
      "execution_count": 37,
      "outputs": [
        {
          "output_type": "execute_result",
          "data": {
            "text/plain": [
              "{'people': 6,\n",
              " 'watch': 11,\n",
              " 'campusx': 0,\n",
              " 'people watch': 7,\n",
              " 'watch campusx': 12,\n",
              " 'people watch campusx': 8,\n",
              " 'campusx watch': 1,\n",
              " 'campusx watch campusx': 2,\n",
              " 'write': 13,\n",
              " 'comment': 5,\n",
              " 'people write': 9,\n",
              " 'write comment': 14,\n",
              " 'people write comment': 10,\n",
              " 'campusx write': 3,\n",
              " 'campusx write comment': 4}"
            ]
          },
          "metadata": {},
          "execution_count": 37
        }
      ]
    },
    {
      "cell_type": "markdown",
      "source": [
        "# TF-IDF Vectorization"
      ],
      "metadata": {
        "id": "fBtp7nn7Aq-u"
      }
    },
    {
      "cell_type": "code",
      "metadata": {
        "colab": {
          "base_uri": "https://localhost:8080/",
          "height": 233
        },
        "id": "cG72IbTMBVrB",
        "outputId": "b197f2a3-1b76-4dbe-cee4-c83243ee0f5e"
      },
      "source": [
        "# TF-IDF Vectorization\n",
        "\n",
        "TF-IDF stands for **Term Frequency-Inverse Document Frequency**. It is a numerical statistic that reflects how important a word is to a document in a collection or corpus.\n",
        "\n",
        "The main idea behind TF-IDF is to give higher scores to words that are frequent in a specific document but are rare across all documents in the entire corpus. This helps to filter out common words (like \"the\", \"a\", \"is\") that appear frequently in many documents and are therefore less informative, while highlighting words that are more specific and relevant to a particular document.\n",
        "\n",
        "The purpose of using TF-IDF for text vectorization is to transform text data into a numerical representation that better captures the importance and relevance of words within a document relative to the entire corpus. This numerical representation can then be used as features for various machine learning tasks such as text classification, clustering, and information retrieval."
      ],
      "execution_count": 44,
      "outputs": [
        {
          "output_type": "display_data",
          "data": {
            "text/plain": [
              "<IPython.core.display.Markdown object>"
            ],
            "text/markdown": "\n# TF-IDF Vectorization\n\nTF-IDF stands for **Term Frequency-Inverse Document Frequency**. It is a numerical statistic that reflects how important a word is to a document in a collection or corpus.\n\nThe main idea behind TF-IDF is to give higher scores to words that are frequent in a specific document but are rare across all documents in the entire corpus. This helps to filter out common words (like \"the\", \"a\", \"is\") that appear frequently in many documents and are therefore less informative, while highlighting words that are more specific and relevant to a particular document.\n\nThe purpose of using TF-IDF for text vectorization is to transform text data into a numerical representation that better captures the importance and relevance of words within a document relative to the entire corpus. This numerical representation can then be used as features for various machine learning tasks such as text classification, clustering, and information retrieval.\n"
          },
          "metadata": {}
        }
      ]
    },
    {
      "cell_type": "markdown",
      "metadata": {
        "id": "84e30f2e"
      },
      "source": [
        "## Explain term frequency (tf)\n",
        "\n",
        "### Subtask:\n",
        "Define Term Frequency, provide the formula, and show a simple calculation example.\n"
      ]
    },
    {
      "cell_type": "markdown",
      "metadata": {
        "id": "c3b3db3f"
      },
      "source": [
        "**Reasoning**:\n",
        "Create a markdown cell to define Term Frequency, provide its formula, and include a calculation example using the provided DataFrame.\n",
        "\n"
      ]
    },
    {
      "cell_type": "code",
      "metadata": {
        "colab": {
          "base_uri": "https://localhost:8080/",
          "height": 401
        },
        "id": "414125a6",
        "outputId": "4eaefe02-5514-4947-8d76-1c2605745ff4"
      },
      "source": [
        "%%markdown\n",
        "### Term Frequency (TF)\n",
        "\n",
        "Term Frequency (TF) measures how frequently a term appears in a document. A higher Term Frequency for a word in a document indicates that the word is more relevant to that document.\n",
        "\n",
        "The formula for Term Frequency of a term ($t$) in a document ($d$) is:\n",
        "\n",
        "$$\n",
        "\\text{TF}(t, d) = \\frac{\\text{Number of times term } t \\text{ appears in document } d}{\\text{Total number of terms in document } d}\n",
        "$$\n",
        "\n",
        "Let's take the first document from our DataFrame: \"people watch campusx\".\n",
        "\n",
        "To calculate the TF for the word \"people\" in this document:\n",
        "\n",
        "Number of times \"people\" appears in \"people watch campusx\" = 1\n",
        "Total number of terms in \"people watch campusx\" = 3 (people, watch, campusx)\n",
        "\n",
        "$$\n",
        "\\text{TF}(\\text{\"people\"}, \\text{\"people watch campusx\"}) = \\frac{1}{3} \\approx 0.333\n",
        "$$\n",
        "\n",
        "To calculate the TF for the word \"watch\" in this document:\n",
        "\n",
        "Number of times \"watch\" appears in \"people watch campusx\" = 1\n",
        "Total number of terms in \"people watch campusx\" = 3\n",
        "\n",
        "$$\n",
        "\\text{TF}(\\text{\"watch\"}, \\text{\"people watch campusx\"}) = \\frac{1}{3} \\approx 0.333\n",
        "$$\n",
        "\n",
        "To calculate the TF for the word \"campusx\" in this document:\n",
        "\n",
        "Number of times \"campusx\" appears in \"people watch campusx\" = 1\n",
        "Total number of terms in \"people watch campusx\" = 3\n",
        "\n",
        "$$\n",
        "\\text{TF}(\\text{\"campusx\"}, \\text{\"people watch campusx\"}) = \\frac{1}{3} \\approx 0.333\n",
        "$$"
      ],
      "execution_count": 41,
      "outputs": [
        {
          "output_type": "display_data",
          "data": {
            "text/plain": [
              "<IPython.core.display.Markdown object>"
            ],
            "text/markdown": "### Term Frequency (TF)\n\nTerm Frequency (TF) measures how frequently a term appears in a document. A higher Term Frequency for a word in a document indicates that the word is more relevant to that document.\n\nThe formula for Term Frequency of a term ($t$) in a document ($d$) is:\n\n$$\n\\text{TF}(t, d) = \\frac{\\text{Number of times term } t \\text{ appears in document } d}{\\text{Total number of terms in document } d}\n$$\n\nLet's take the first document from our DataFrame: \"people watch campusx\".\n\nTo calculate the TF for the word \"people\" in this document:\n\nNumber of times \"people\" appears in \"people watch campusx\" = 1\nTotal number of terms in \"people watch campusx\" = 3 (people, watch, campusx)\n\n$$\n\\text{TF}(\\text{\"people\"}, \\text{\"people watch campusx\"}) = \\frac{1}{3} \\approx 0.333\n$$\n\nTo calculate the TF for the word \"watch\" in this document:\n\nNumber of times \"watch\" appears in \"people watch campusx\" = 1\nTotal number of terms in \"people watch campusx\" = 3\n\n$$\n\\text{TF}(\\text{\"watch\"}, \\text{\"people watch campusx\"}) = \\frac{1}{3} \\approx 0.333\n$$\n\nTo calculate the TF for the word \"campusx\" in this document:\n\nNumber of times \"campusx\" appears in \"people watch campusx\" = 1\nTotal number of terms in \"people watch campusx\" = 3\n\n$$\n\\text{TF}(\\text{\"campusx\"}, \\text{\"people watch campusx\"}) = \\frac{1}{3} \\approx 0.333\n$$\n"
          },
          "metadata": {}
        }
      ]
    },
    {
      "cell_type": "markdown",
      "metadata": {
        "id": "45afde73"
      },
      "source": [
        "## Explain inverse document frequency (idf)\n",
        "\n",
        "### Subtask:\n",
        "Define Inverse Document Frequency, provide the formula, and show a simple calculation example.\n"
      ]
    },
    {
      "cell_type": "markdown",
      "metadata": {
        "id": "28259c86"
      },
      "source": [
        "**Reasoning**:\n",
        "Create a markdown cell to define Inverse Document Frequency, provide the formula, and show calculation examples based on the dataframe.\n",
        "\n"
      ]
    },
    {
      "cell_type": "code",
      "metadata": {
        "colab": {
          "base_uri": "https://localhost:8080/",
          "height": 511
        },
        "id": "d225e1d7",
        "outputId": "0bcf4296-6f56-40a9-9419-d04f83c85f0f"
      },
      "source": [
        "%%markdown\n",
        "### Inverse Document Frequency (IDF)\n",
        "\n",
        "Inverse Document Frequency (IDF) measures how important a term is across the whole corpus. It helps to downweight terms that appear frequently in many documents and are thus less informative, while giving more weight to terms that are rare and potentially more significant.\n",
        "\n",
        "The formula for Inverse Document Frequency of a term ($t$) in a corpus ($D$) is:\n",
        "\n",
        "$$\n",
        "\\text{IDF}(t, D) = \\log\\left(\\frac{\\text{Total number of documents in the corpus}}{\\text{Number of documents containing term } t}\\right)\n",
        "$$\n",
        "\n",
        "Let's calculate the IDF for a few terms using our `df` DataFrame, which has 4 documents:\n",
        "\n",
        "Total number of documents in the corpus = 4\n",
        "\n",
        "**Term: \"people\"**\n",
        "\n",
        "Number of documents containing \"people\": Document 0 (\"people watch campusx\") and Document 2 (\"people write comment\"). So, 2 documents contain \"people\".\n",
        "\n",
        "$$\n",
        "\\text{IDF}(\\text{\"people\"}, D) = \\log\\left(\\frac{4}{2}\\right) = \\log(2) \\approx 0.693\n",
        "$$\n",
        "\n",
        "**Term: \"campusx\"**\n",
        "\n",
        "Number of documents containing \"campusx\": Document 0 (\"people watch campusx\"), Document 1 (\"campusx watch campusx\"), and Document 3 (\"campusx write comment\"). So, 3 documents contain \"campusx\".\n",
        "\n",
        "$$\n",
        "\\text{IDF}(\\text{\"campusx\"}, D) = \\log\\left(\\frac{4}{3}\\right) = \\log(1.333...) \\approx 0.288\n",
        "$$\n",
        "\n",
        "**Term: \"comment\"**\n",
        "\n",
        "Number of documents containing \"comment\": Document 2 (\"people write comment\") and Document 3 (\"campusx write comment\"). So, 2 documents contain \"comment\".\n",
        "\n",
        "$$\n",
        "\\text{IDF}(\\text{\"comment\"}, D) = \\log\\left(\\frac{4}{2}\\right) = \\log(2) \\approx 0.693\n",
        "$$\n",
        "\n",
        "Notice that \"campusx\", which appears in more documents (3 out of 4), has a lower IDF value compared to \"people\" and \"comment\" (both appearing in 2 out of 4 documents). This demonstrates how IDF downweights terms that are common across the corpus."
      ],
      "execution_count": 42,
      "outputs": [
        {
          "output_type": "display_data",
          "data": {
            "text/plain": [
              "<IPython.core.display.Markdown object>"
            ],
            "text/markdown": "### Inverse Document Frequency (IDF)\n\nInverse Document Frequency (IDF) measures how important a term is across the whole corpus. It helps to downweight terms that appear frequently in many documents and are thus less informative, while giving more weight to terms that are rare and potentially more significant.\n\nThe formula for Inverse Document Frequency of a term ($t$) in a corpus ($D$) is:\n\n$$\n\\text{IDF}(t, D) = \\log\\left(\\frac{\\text{Total number of documents in the corpus}}{\\text{Number of documents containing term } t}\\right)\n$$\n\nLet's calculate the IDF for a few terms using our `df` DataFrame, which has 4 documents:\n\nTotal number of documents in the corpus = 4\n\n**Term: \"people\"**\n\nNumber of documents containing \"people\": Document 0 (\"people watch campusx\") and Document 2 (\"people write comment\"). So, 2 documents contain \"people\".\n\n$$\n\\text{IDF}(\\text{\"people\"}, D) = \\log\\left(\\frac{4}{2}\\right) = \\log(2) \\approx 0.693\n$$\n\n**Term: \"campusx\"**\n\nNumber of documents containing \"campusx\": Document 0 (\"people watch campusx\"), Document 1 (\"campusx watch campusx\"), and Document 3 (\"campusx write comment\"). So, 3 documents contain \"campusx\".\n\n$$\n\\text{IDF}(\\text{\"campusx\"}, D) = \\log\\left(\\frac{4}{3}\\right) = \\log(1.333...) \\approx 0.288\n$$\n\n**Term: \"comment\"**\n\nNumber of documents containing \"comment\": Document 2 (\"people write comment\") and Document 3 (\"campusx write comment\"). So, 2 documents contain \"comment\".\n\n$$\n\\text{IDF}(\\text{\"comment\"}, D) = \\log\\left(\\frac{4}{2}\\right) = \\log(2) \\approx 0.693\n$$\n\nNotice that \"campusx\", which appears in more documents (3 out of 4), has a lower IDF value compared to \"people\" and \"comment\" (both appearing in 2 out of 4 documents). This demonstrates how IDF downweights terms that are common across the corpus.\n"
          },
          "metadata": {}
        }
      ]
    },
    {
      "cell_type": "markdown",
      "metadata": {
        "id": "99124c3f"
      },
      "source": [
        "# Tf-Idf calculation\n",
        "\n"
      ]
    },
    {
      "cell_type": "code",
      "metadata": {
        "colab": {
          "base_uri": "https://localhost:8080/",
          "height": 389
        },
        "id": "50230bf3",
        "outputId": "d253b30b-3aee-40cc-d115-3644d9bb0a8d"
      },
      "source": [
        "%%markdown\n",
        "### TF-IDF Calculation\n",
        "\n",
        "TF-IDF is calculated by multiplying the Term Frequency (TF) and the Inverse Document Frequency (IDF) for a given term in a specific document.\n",
        "\n",
        "The formula for TF-IDF of a term ($t$) in a document ($d$) within a corpus ($D$) is:\n",
        "\n",
        "$$\n",
        "\\text{TF-IDF}(t, d, D) = \\text{TF}(t, d) \\times \\text{IDF}(t, D)\n",
        "$$\n",
        "\n",
        "Let's calculate the TF-IDF for the term \"people\" in the first document (\"people watch campusx\") using the TF and IDF values we calculated previously:\n",
        "\n",
        "From the TF explanation:\n",
        "$$\n",
        "\\text{TF}(\\text{\"people\"}, \\text{\"people watch campusx\"}) = \\frac{1}{3} \\approx 0.333\n",
        "$$\n",
        "\n",
        "From the IDF explanation:\n",
        "$$\n",
        "\\text{IDF}(\\text{\"people\"}, D) = \\log\\left(\\frac{4}{2}\\right) = \\log(2) \\approx 0.693\n",
        "$$\n",
        "\n",
        "Now, we multiply these two values to get the TF-IDF score:\n",
        "\n",
        "$$\n",
        "\\text{TF-IDF}(\\text{\"people\"}, \\text{\"people watch campusx\"}, D) = \\text{TF}(\\text{\"people\"}, \\text{\"people watch campusx\"}) \\times \\text{IDF}(\\text{\"people\"}, D)\n",
        "$$\n",
        "\n",
        "$$\n",
        "\\text{TF-IDF}(\\text{\"people\"}, \\text{\"people watch campusx\"}, D) \\approx 0.333 \\times 0.693 \\approx 0.231\n",
        "$$\n",
        "\n",
        "This TF-IDF score of approximately 0.231 for the term \"people\" in the first document indicates its importance relative to the other terms in that document and across the entire corpus. A higher TF-IDF score suggests that the term is more unique and relevant to that specific document within the context of the whole collection of documents."
      ],
      "execution_count": 43,
      "outputs": [
        {
          "output_type": "display_data",
          "data": {
            "text/plain": [
              "<IPython.core.display.Markdown object>"
            ],
            "text/markdown": "### TF-IDF Calculation\n\nTF-IDF is calculated by multiplying the Term Frequency (TF) and the Inverse Document Frequency (IDF) for a given term in a specific document.\n\nThe formula for TF-IDF of a term ($t$) in a document ($d$) within a corpus ($D$) is:\n\n$$\n\\text{TF-IDF}(t, d, D) = \\text{TF}(t, d) \\times \\text{IDF}(t, D)\n$$\n\nLet's calculate the TF-IDF for the term \"people\" in the first document (\"people watch campusx\") using the TF and IDF values we calculated previously:\n\nFrom the TF explanation:\n$$\n\\text{TF}(\\text{\"people\"}, \\text{\"people watch campusx\"}) = \\frac{1}{3} \\approx 0.333\n$$\n\nFrom the IDF explanation:\n$$\n\\text{IDF}(\\text{\"people\"}, D) = \\log\\left(\\frac{4}{2}\\right) = \\log(2) \\approx 0.693\n$$\n\nNow, we multiply these two values to get the TF-IDF score:\n\n$$\n\\text{TF-IDF}(\\text{\"people\"}, \\text{\"people watch campusx\"}, D) = \\text{TF}(\\text{\"people\"}, \\text{\"people watch campusx\"}) \\times \\text{IDF}(\\text{\"people\"}, D)\n$$\n\n$$\n\\text{TF-IDF}(\\text{\"people\"}, \\text{\"people watch campusx\"}, D) \\approx 0.333 \\times 0.693 \\approx 0.231\n$$\n\nThis TF-IDF score of approximately 0.231 for the term \"people\" in the first document indicates its importance relative to the other terms in that document and across the entire corpus. A higher TF-IDF score suggests that the term is more unique and relevant to that specific document within the context of the whole collection of documents.\n"
          },
          "metadata": {}
        }
      ]
    },
    {
      "cell_type": "markdown",
      "source": [
        "Implementation"
      ],
      "metadata": {
        "id": "nU4A_dUrCQZ-"
      }
    },
    {
      "cell_type": "code",
      "source": [
        "from sklearn.feature_extraction.text import TfidfVectorizer\n",
        "\n",
        "tfidf_vectorizer = TfidfVectorizer()\n",
        "\n",
        "tfidf_matrix = tfidf_vectorizer.fit_transform(df['text'])\n",
        "\n",
        "print(\"TF-IDF matrix:\\n\", tfidf_matrix.toarray())"
      ],
      "metadata": {
        "colab": {
          "base_uri": "https://localhost:8080/"
        },
        "id": "PrIF1uDwCPrU",
        "outputId": "7879d953-19cc-4e69-f8bc-48986a648f3a"
      },
      "execution_count": 45,
      "outputs": [
        {
          "output_type": "stream",
          "name": "stdout",
          "text": [
            "TF-IDF matrix:\n",
            " [[0.49681612 0.         0.61366674 0.61366674 0.        ]\n",
            " [0.8508161  0.         0.         0.52546357 0.        ]\n",
            " [0.         0.57735027 0.57735027 0.         0.57735027]\n",
            " [0.49681612 0.61366674 0.         0.         0.61366674]]\n"
          ]
        }
      ]
    },
    {
      "cell_type": "code",
      "source": [
        "tfidf_vectorizer.vocabulary_"
      ],
      "metadata": {
        "colab": {
          "base_uri": "https://localhost:8080/"
        },
        "id": "1bD8zz50CVQn",
        "outputId": "747e6f49-c587-4731-ed50-2a20cdec75e9"
      },
      "execution_count": 46,
      "outputs": [
        {
          "output_type": "execute_result",
          "data": {
            "text/plain": [
              "{'people': 2, 'watch': 3, 'campusx': 0, 'write': 4, 'comment': 1}"
            ]
          },
          "metadata": {},
          "execution_count": 46
        }
      ]
    },
    {
      "cell_type": "code",
      "source": [
        "tfidf_vectorizer.idf_"
      ],
      "metadata": {
        "colab": {
          "base_uri": "https://localhost:8080/"
        },
        "id": "fWTEcM7dCYpn",
        "outputId": "704bdc92-bc3f-473e-b7c4-c306d87f5507"
      },
      "execution_count": 47,
      "outputs": [
        {
          "output_type": "execute_result",
          "data": {
            "text/plain": [
              "array([1.22314355, 1.51082562, 1.51082562, 1.51082562, 1.51082562])"
            ]
          },
          "metadata": {},
          "execution_count": 47
        }
      ]
    },
    {
      "cell_type": "markdown",
      "source": [
        "We can find the correctly ordered vocabulary ,beginning from index 0 unlike the dicts we have seen before using get_feature_names_out()"
      ],
      "metadata": {
        "id": "fCuhhWw6CwTH"
      }
    },
    {
      "cell_type": "code",
      "source": [
        "tfidf_vectorizer.get_feature_names_out()"
      ],
      "metadata": {
        "colab": {
          "base_uri": "https://localhost:8080/"
        },
        "id": "GHAlTZ7jCbVZ",
        "outputId": "284bd09e-cc1a-4589-b6e7-9cb23a75fe65"
      },
      "execution_count": 49,
      "outputs": [
        {
          "output_type": "execute_result",
          "data": {
            "text/plain": [
              "array(['campusx', 'comment', 'people', 'watch', 'write'], dtype=object)"
            ]
          },
          "metadata": {},
          "execution_count": 49
        }
      ]
    },
    {
      "cell_type": "code",
      "source": [],
      "metadata": {
        "id": "iIKnfhf1ChK_"
      },
      "execution_count": null,
      "outputs": []
    }
  ]
}