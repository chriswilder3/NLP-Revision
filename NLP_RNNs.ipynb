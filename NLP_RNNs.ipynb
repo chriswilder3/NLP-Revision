{
  "nbformat": 4,
  "nbformat_minor": 0,
  "metadata": {
    "colab": {
      "provenance": []
    },
    "kernelspec": {
      "name": "python3",
      "display_name": "Python 3"
    },
    "language_info": {
      "name": "python"
    }
  },
  "cells": [
    {
      "cell_type": "code",
      "execution_count": null,
      "metadata": {
        "id": "xMOoNNrT7-WD"
      },
      "outputs": [],
      "source": [
        "import numpy as np\n",
        "import tensorflow as tf\n",
        "import keras\n",
        "from tensorflow.keras.models import Sequential\n",
        "from tensorflow.keras.layers import SimpleRNN, Dense"
      ]
    },
    {
      "cell_type": "code",
      "source": [
        "text = \"This is GeeksforGeeks a software training institute\"\n",
        "chars = sorted(list(set(text))) # Get sorted list of all unique characters, vocabulary\n",
        "char_to_index = {char: i for i, char in enumerate(chars)} # Useful in converting chars to index (kind of like vectorization)\n",
        "index_to_char = {i: char for i, char in enumerate(chars)} # For Decoding output as as character.\n",
        "\n",
        "char_to_index , index_to_char"
      ],
      "metadata": {
        "colab": {
          "base_uri": "https://localhost:8080/"
        },
        "id": "0Ei6N62w8I4S",
        "outputId": "91986ac8-a747-4e7f-e966-14d226985463"
      },
      "execution_count": null,
      "outputs": [
        {
          "output_type": "execute_result",
          "data": {
            "text/plain": [
              "({' ': 0,\n",
              "  'G': 1,\n",
              "  'T': 2,\n",
              "  'a': 3,\n",
              "  'e': 4,\n",
              "  'f': 5,\n",
              "  'g': 6,\n",
              "  'h': 7,\n",
              "  'i': 8,\n",
              "  'k': 9,\n",
              "  'n': 10,\n",
              "  'o': 11,\n",
              "  'r': 12,\n",
              "  's': 13,\n",
              "  't': 14,\n",
              "  'u': 15,\n",
              "  'w': 16},\n",
              " {0: ' ',\n",
              "  1: 'G',\n",
              "  2: 'T',\n",
              "  3: 'a',\n",
              "  4: 'e',\n",
              "  5: 'f',\n",
              "  6: 'g',\n",
              "  7: 'h',\n",
              "  8: 'i',\n",
              "  9: 'k',\n",
              "  10: 'n',\n",
              "  11: 'o',\n",
              "  12: 'r',\n",
              "  13: 's',\n",
              "  14: 't',\n",
              "  15: 'u',\n",
              "  16: 'w'})"
            ]
          },
          "metadata": {},
          "execution_count": 80
        }
      ]
    },
    {
      "cell_type": "markdown",
      "source": [
        "To train the RNN, we will use sequences of fixed length (seq_length) and the character following each sequence as the label."
      ],
      "metadata": {
        "id": "e4ZRNGZSFBL4"
      }
    },
    {
      "cell_type": "code",
      "source": [
        "seq_length = 3\n",
        "sequences = []\n",
        "labels = []\n",
        "\n",
        "for i in range(len(text) - seq_length):\n",
        "    seq = text[i:i + seq_length]                 # consider each 3 letter sequence as context(ie, input sequence)\n",
        "    label = text[i + seq_length]                 # and letter next to this sequence as the target/label (output needed to predict)\n",
        "    sequences.append([char_to_index[char] for char in seq]) # Create an array corresponding to 3 letter sequence, where each element is number representation for corresponding char\n",
        "    labels.append(char_to_index[label])  #  A number represention of each target letter(label)\n",
        "\n",
        "X = np.array(sequences)\n",
        "y = np.array(labels)"
      ],
      "metadata": {
        "id": "AEjrLmHUEL3X"
      },
      "execution_count": null,
      "outputs": []
    },
    {
      "cell_type": "code",
      "source": [
        "X, y"
      ],
      "metadata": {
        "colab": {
          "base_uri": "https://localhost:8080/"
        },
        "id": "PAqH4XZaD76S",
        "outputId": "59d3afa4-a700-4579-fcf5-63772500befc"
      },
      "execution_count": null,
      "outputs": [
        {
          "output_type": "execute_result",
          "data": {
            "text/plain": [
              "(array([[ 2,  7,  8],\n",
              "        [ 7,  8, 13],\n",
              "        [ 8, 13,  0],\n",
              "        [13,  0,  8],\n",
              "        [ 0,  8, 13],\n",
              "        [ 8, 13,  0],\n",
              "        [13,  0,  1],\n",
              "        [ 0,  1,  4],\n",
              "        [ 1,  4,  4],\n",
              "        [ 4,  4,  9],\n",
              "        [ 4,  9, 13],\n",
              "        [ 9, 13,  5],\n",
              "        [13,  5, 11],\n",
              "        [ 5, 11, 12],\n",
              "        [11, 12,  1],\n",
              "        [12,  1,  4],\n",
              "        [ 1,  4,  4],\n",
              "        [ 4,  4,  9],\n",
              "        [ 4,  9, 13],\n",
              "        [ 9, 13,  0],\n",
              "        [13,  0,  3],\n",
              "        [ 0,  3,  0],\n",
              "        [ 3,  0, 13],\n",
              "        [ 0, 13, 11],\n",
              "        [13, 11,  5],\n",
              "        [11,  5, 14],\n",
              "        [ 5, 14, 16],\n",
              "        [14, 16,  3],\n",
              "        [16,  3, 12],\n",
              "        [ 3, 12,  4],\n",
              "        [12,  4,  0],\n",
              "        [ 4,  0, 14],\n",
              "        [ 0, 14, 12],\n",
              "        [14, 12,  3],\n",
              "        [12,  3,  8],\n",
              "        [ 3,  8, 10],\n",
              "        [ 8, 10,  8],\n",
              "        [10,  8, 10],\n",
              "        [ 8, 10,  6],\n",
              "        [10,  6,  0],\n",
              "        [ 6,  0,  8],\n",
              "        [ 0,  8, 10],\n",
              "        [ 8, 10, 13],\n",
              "        [10, 13, 14],\n",
              "        [13, 14,  8],\n",
              "        [14,  8, 14],\n",
              "        [ 8, 14, 15],\n",
              "        [14, 15, 14]]),\n",
              " array([13,  0,  8, 13,  0,  1,  4,  4,  9, 13,  5, 11, 12,  1,  4,  4,  9,\n",
              "        13,  0,  3,  0, 13, 11,  5, 14, 16,  3, 12,  4,  0, 14, 12,  3,  8,\n",
              "        10,  8, 10,  6,  0,  8, 10, 13, 14,  8, 14, 15, 14,  4]))"
            ]
          },
          "metadata": {},
          "execution_count": 82
        }
      ]
    },
    {
      "cell_type": "code",
      "source": [
        "# Note that vocabulary is actually chars, Based on this number, now one hot encode these X,y arrays.\n",
        "\n",
        "X_one_hot = tf.one_hot(X, len(chars))\n",
        "y_one_hot = tf.one_hot(y, len(chars))\n",
        "\n",
        "# X_one_hot, y_one_hot"
      ],
      "metadata": {
        "id": "XBO69gmrMMKw"
      },
      "execution_count": null,
      "outputs": []
    },
    {
      "cell_type": "markdown",
      "source": [
        "Many times in deep learning and general vector computations you will have a y vector with numbers ranging from 0 to C-1 and you want to do the following conversion. If C is for example 5, then you might have the following y vector which you will need to convert as follow.\n"
      ],
      "metadata": {
        "id": "8H-jb70MQaYZ"
      }
    },
    {
      "cell_type": "markdown",
      "source": [
        "\n",
        "![image.png](data:image/png;base64,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)"
      ],
      "metadata": {
        "id": "2yTSTMopQHRx"
      }
    },
    {
      "cell_type": "markdown",
      "source": [
        "Since our vocabulary is 17 sized, also its values always range from 0 to 16. The each value in vectors inside array, is like a word, whose vector we need to find.\n",
        "\n",
        "For ex : in [2, 7 , 8]. Lets we need to find OHE vector of 2, you might ask for that we need positions of each element in the vocabulary. But in such case No need. Why? Because we know values always range from 0 to C-1. Hence vocabulary always correspondings to [0,1,2,3....C-1]. Hence to find the vector of 2 just keep 2nd val 1 rest 0 . [0,0,1,0,0....0].\n",
        "\n",
        "Similarly OHE vector of 7 : [0,0,0,0,0,0,0,1,0,0,0...]\n",
        "and 8 : [0,0,0,0,0,0,0,0,1,0,0,0...]\n"
      ],
      "metadata": {
        "id": "uHo8PXaEQjHk"
      }
    },
    {
      "cell_type": "markdown",
      "source": [
        "Therefore In **tf.one_hot()**, If we are sure that all values inside an array are numbers like indexes ranging from 0 to C-1. Then we need to pass the array(X) along with size of vocabulary(len(chars))"
      ],
      "metadata": {
        "id": "IKaxL9NbTm8L"
      }
    },
    {
      "cell_type": "code",
      "source": [
        "X_one_hot[0]"
      ],
      "metadata": {
        "colab": {
          "base_uri": "https://localhost:8080/"
        },
        "id": "uHabsAuNNXuy",
        "outputId": "dc6868fc-dad5-4284-f179-be6d673fe65f"
      },
      "execution_count": null,
      "outputs": [
        {
          "output_type": "execute_result",
          "data": {
            "text/plain": [
              "<tf.Tensor: shape=(3, 17), dtype=float32, numpy=\n",
              "array([[0., 0., 1., 0., 0., 0., 0., 0., 0., 0., 0., 0., 0., 0., 0., 0.,\n",
              "        0.],\n",
              "       [0., 0., 0., 0., 0., 0., 0., 1., 0., 0., 0., 0., 0., 0., 0., 0.,\n",
              "        0.],\n",
              "       [0., 0., 0., 0., 0., 0., 0., 0., 1., 0., 0., 0., 0., 0., 0., 0.,\n",
              "        0.]], dtype=float32)>"
            ]
          },
          "metadata": {},
          "execution_count": 84
        }
      ]
    },
    {
      "cell_type": "markdown",
      "source": [
        "# Building the RNN Model"
      ],
      "metadata": {
        "id": "m1aMhNhrUa5x"
      }
    },
    {
      "cell_type": "code",
      "source": [
        "model = Sequential()\n",
        "\n",
        "model.add( SimpleRNN(50, input_shape=(seq_length, len(chars)), activation='relu')) # It defines hidden layers and Input layers both.\n",
        "                # SimpleRNN(Units=hidden_neurons,input_shape=(total_timesteps ie words/doc,input_neurons ie, ONE_vector_size ie, vocab size ), **other_neural_net_args)\n",
        "\n",
        "model.add(Dense(len(chars), activation='softmax')) # Dense layers add normal feed forward layers, ie they do linear comb sum(Wi*Xi+b) and activation function.\n",
        "                # Now this Dense layer acts as output layer, since we want outputs as vectos with probabilites, which indicate which value in vocabulary has highes\n",
        "                # probability of being output, we give units = vocab_size, and activation as softmax(since output is vector(not single val))\n",
        "model.summary()"
      ],
      "metadata": {
        "colab": {
          "base_uri": "https://localhost:8080/",
          "height": 248
        },
        "id": "C9fS3YarNanV",
        "outputId": "90d32d9b-97a3-4d4d-d916-0337891030f7"
      },
      "execution_count": null,
      "outputs": [
        {
          "output_type": "stream",
          "name": "stderr",
          "text": [
            "/usr/local/lib/python3.12/dist-packages/keras/src/layers/rnn/rnn.py:199: UserWarning: Do not pass an `input_shape`/`input_dim` argument to a layer. When using Sequential models, prefer using an `Input(shape)` object as the first layer in the model instead.\n",
            "  super().__init__(**kwargs)\n"
          ]
        },
        {
          "output_type": "display_data",
          "data": {
            "text/plain": [
              "\u001b[1mModel: \"sequential_15\"\u001b[0m\n"
            ],
            "text/html": [
              "<pre style=\"white-space:pre;overflow-x:auto;line-height:normal;font-family:Menlo,'DejaVu Sans Mono',consolas,'Courier New',monospace\"><span style=\"font-weight: bold\">Model: \"sequential_15\"</span>\n",
              "</pre>\n"
            ]
          },
          "metadata": {}
        },
        {
          "output_type": "display_data",
          "data": {
            "text/plain": [
              "┏━━━━━━━━━━━━━━━━━━━━━━━━━━━━━━━━━┳━━━━━━━━━━━━━━━━━━━━━━━━┳━━━━━━━━━━━━━━━┓\n",
              "┃\u001b[1m \u001b[0m\u001b[1mLayer (type)                   \u001b[0m\u001b[1m \u001b[0m┃\u001b[1m \u001b[0m\u001b[1mOutput Shape          \u001b[0m\u001b[1m \u001b[0m┃\u001b[1m \u001b[0m\u001b[1m      Param #\u001b[0m\u001b[1m \u001b[0m┃\n",
              "┡━━━━━━━━━━━━━━━━━━━━━━━━━━━━━━━━━╇━━━━━━━━━━━━━━━━━━━━━━━━╇━━━━━━━━━━━━━━━┩\n",
              "│ simple_rnn_15 (\u001b[38;5;33mSimpleRNN\u001b[0m)       │ (\u001b[38;5;45mNone\u001b[0m, \u001b[38;5;34m50\u001b[0m)             │         \u001b[38;5;34m3,400\u001b[0m │\n",
              "├─────────────────────────────────┼────────────────────────┼───────────────┤\n",
              "│ dense_15 (\u001b[38;5;33mDense\u001b[0m)                │ (\u001b[38;5;45mNone\u001b[0m, \u001b[38;5;34m17\u001b[0m)             │           \u001b[38;5;34m867\u001b[0m │\n",
              "└─────────────────────────────────┴────────────────────────┴───────────────┘\n"
            ],
            "text/html": [
              "<pre style=\"white-space:pre;overflow-x:auto;line-height:normal;font-family:Menlo,'DejaVu Sans Mono',consolas,'Courier New',monospace\">┏━━━━━━━━━━━━━━━━━━━━━━━━━━━━━━━━━┳━━━━━━━━━━━━━━━━━━━━━━━━┳━━━━━━━━━━━━━━━┓\n",
              "┃<span style=\"font-weight: bold\"> Layer (type)                    </span>┃<span style=\"font-weight: bold\"> Output Shape           </span>┃<span style=\"font-weight: bold\">       Param # </span>┃\n",
              "┡━━━━━━━━━━━━━━━━━━━━━━━━━━━━━━━━━╇━━━━━━━━━━━━━━━━━━━━━━━━╇━━━━━━━━━━━━━━━┩\n",
              "│ simple_rnn_15 (<span style=\"color: #0087ff; text-decoration-color: #0087ff\">SimpleRNN</span>)       │ (<span style=\"color: #00d7ff; text-decoration-color: #00d7ff\">None</span>, <span style=\"color: #00af00; text-decoration-color: #00af00\">50</span>)             │         <span style=\"color: #00af00; text-decoration-color: #00af00\">3,400</span> │\n",
              "├─────────────────────────────────┼────────────────────────┼───────────────┤\n",
              "│ dense_15 (<span style=\"color: #0087ff; text-decoration-color: #0087ff\">Dense</span>)                │ (<span style=\"color: #00d7ff; text-decoration-color: #00d7ff\">None</span>, <span style=\"color: #00af00; text-decoration-color: #00af00\">17</span>)             │           <span style=\"color: #00af00; text-decoration-color: #00af00\">867</span> │\n",
              "└─────────────────────────────────┴────────────────────────┴───────────────┘\n",
              "</pre>\n"
            ]
          },
          "metadata": {}
        },
        {
          "output_type": "display_data",
          "data": {
            "text/plain": [
              "\u001b[1m Total params: \u001b[0m\u001b[38;5;34m4,267\u001b[0m (16.67 KB)\n"
            ],
            "text/html": [
              "<pre style=\"white-space:pre;overflow-x:auto;line-height:normal;font-family:Menlo,'DejaVu Sans Mono',consolas,'Courier New',monospace\"><span style=\"font-weight: bold\"> Total params: </span><span style=\"color: #00af00; text-decoration-color: #00af00\">4,267</span> (16.67 KB)\n",
              "</pre>\n"
            ]
          },
          "metadata": {}
        },
        {
          "output_type": "display_data",
          "data": {
            "text/plain": [
              "\u001b[1m Trainable params: \u001b[0m\u001b[38;5;34m4,267\u001b[0m (16.67 KB)\n"
            ],
            "text/html": [
              "<pre style=\"white-space:pre;overflow-x:auto;line-height:normal;font-family:Menlo,'DejaVu Sans Mono',consolas,'Courier New',monospace\"><span style=\"font-weight: bold\"> Trainable params: </span><span style=\"color: #00af00; text-decoration-color: #00af00\">4,267</span> (16.67 KB)\n",
              "</pre>\n"
            ]
          },
          "metadata": {}
        },
        {
          "output_type": "display_data",
          "data": {
            "text/plain": [
              "\u001b[1m Non-trainable params: \u001b[0m\u001b[38;5;34m0\u001b[0m (0.00 B)\n"
            ],
            "text/html": [
              "<pre style=\"white-space:pre;overflow-x:auto;line-height:normal;font-family:Menlo,'DejaVu Sans Mono',consolas,'Courier New',monospace\"><span style=\"font-weight: bold\"> Non-trainable params: </span><span style=\"color: #00af00; text-decoration-color: #00af00\">0</span> (0.00 B)\n",
              "</pre>\n"
            ]
          },
          "metadata": {}
        }
      ]
    },
    {
      "cell_type": "markdown",
      "source": [
        "# Compile and train the model :"
      ],
      "metadata": {
        "id": "a8O5jwYrZXbh"
      }
    },
    {
      "cell_type": "code",
      "source": [
        "model.compile( optimizer= keras.optimizers.Adam(0.001), loss='categorical_crossentropy', metrics=[\"f1_score\", \"accuracy\"])\n",
        "model.fit(X_one_hot, y_one_hot, epochs=200)"
      ],
      "metadata": {
        "colab": {
          "base_uri": "https://localhost:8080/"
        },
        "id": "e39oBsY1ZK67",
        "outputId": "f9bf2d36-16a3-45b1-d65b-0ad5b3b6b793"
      },
      "execution_count": null,
      "outputs": [
        {
          "output_type": "stream",
          "name": "stdout",
          "text": [
            "Epoch 1/200\n",
            "\u001b[1m2/2\u001b[0m \u001b[32m━━━━━━━━━━━━━━━━━━━━\u001b[0m\u001b[37m\u001b[0m \u001b[1m2s\u001b[0m 27ms/step - accuracy: 0.0625 - f1_score: 0.0352 - loss: 2.8143\n",
            "Epoch 2/200\n",
            "\u001b[1m2/2\u001b[0m \u001b[32m━━━━━━━━━━━━━━━━━━━━\u001b[0m\u001b[37m\u001b[0m \u001b[1m0s\u001b[0m 27ms/step - accuracy: 0.1111 - f1_score: 0.0440 - loss: 2.7973\n",
            "Epoch 3/200\n",
            "\u001b[1m2/2\u001b[0m \u001b[32m━━━━━━━━━━━━━━━━━━━━\u001b[0m\u001b[37m\u001b[0m \u001b[1m0s\u001b[0m 27ms/step - accuracy: 0.1250 - f1_score: 0.0449 - loss: 2.7757\n",
            "Epoch 4/200\n",
            "\u001b[1m2/2\u001b[0m \u001b[32m━━━━━━━━━━━━━━━━━━━━\u001b[0m\u001b[37m\u001b[0m \u001b[1m0s\u001b[0m 28ms/step - accuracy: 0.1528 - f1_score: 0.0627 - loss: 2.7626\n",
            "Epoch 5/200\n",
            "\u001b[1m2/2\u001b[0m \u001b[32m━━━━━━━━━━━━━━━━━━━━\u001b[0m\u001b[37m\u001b[0m \u001b[1m0s\u001b[0m 29ms/step - accuracy: 0.1771 - f1_score: 0.0789 - loss: 2.7483\n",
            "Epoch 6/200\n",
            "\u001b[1m2/2\u001b[0m \u001b[32m━━━━━━━━━━━━━━━━━━━━\u001b[0m\u001b[37m\u001b[0m \u001b[1m0s\u001b[0m 29ms/step - accuracy: 0.1562 - f1_score: 0.0678 - loss: 2.7297\n",
            "Epoch 7/200\n",
            "\u001b[1m2/2\u001b[0m \u001b[32m━━━━━━━━━━━━━━━━━━━━\u001b[0m\u001b[37m\u001b[0m \u001b[1m0s\u001b[0m 29ms/step - accuracy: 0.1875 - f1_score: 0.0881 - loss: 2.6982\n",
            "Epoch 8/200\n",
            "\u001b[1m2/2\u001b[0m \u001b[32m━━━━━━━━━━━━━━━━━━━━\u001b[0m\u001b[37m\u001b[0m \u001b[1m0s\u001b[0m 29ms/step - accuracy: 0.2014 - f1_score: 0.0897 - loss: 2.6884\n",
            "Epoch 9/200\n",
            "\u001b[1m2/2\u001b[0m \u001b[32m━━━━━━━━━━━━━━━━━━━━\u001b[0m\u001b[37m\u001b[0m \u001b[1m0s\u001b[0m 27ms/step - accuracy: 0.2014 - f1_score: 0.0887 - loss: 2.6683\n",
            "Epoch 10/200\n",
            "\u001b[1m2/2\u001b[0m \u001b[32m━━━━━━━━━━━━━━━━━━━━\u001b[0m\u001b[37m\u001b[0m \u001b[1m0s\u001b[0m 28ms/step - accuracy: 0.2222 - f1_score: 0.1046 - loss: 2.6397 \n",
            "Epoch 11/200\n",
            "\u001b[1m2/2\u001b[0m \u001b[32m━━━━━━━━━━━━━━━━━━━━\u001b[0m\u001b[37m\u001b[0m \u001b[1m0s\u001b[0m 27ms/step - accuracy: 0.2396 - f1_score: 0.1290 - loss: 2.6228\n",
            "Epoch 12/200\n",
            "\u001b[1m2/2\u001b[0m \u001b[32m━━━━━━━━━━━━━━━━━━━━\u001b[0m\u001b[37m\u001b[0m \u001b[1m0s\u001b[0m 27ms/step - accuracy: 0.2500 - f1_score: 0.1291 - loss: 2.6031\n",
            "Epoch 13/200\n",
            "\u001b[1m2/2\u001b[0m \u001b[32m━━━━━━━━━━━━━━━━━━━━\u001b[0m\u001b[37m\u001b[0m \u001b[1m0s\u001b[0m 29ms/step - accuracy: 0.2604 - f1_score: 0.1380 - loss: 2.5760\n",
            "Epoch 14/200\n",
            "\u001b[1m2/2\u001b[0m \u001b[32m━━━━━━━━━━━━━━━━━━━━\u001b[0m\u001b[37m\u001b[0m \u001b[1m0s\u001b[0m 28ms/step - accuracy: 0.2986 - f1_score: 0.1492 - loss: 2.5599\n",
            "Epoch 15/200\n",
            "\u001b[1m2/2\u001b[0m \u001b[32m━━━━━━━━━━━━━━━━━━━━\u001b[0m\u001b[37m\u001b[0m \u001b[1m0s\u001b[0m 28ms/step - accuracy: 0.3299 - f1_score: 0.1563 - loss: 2.5292\n",
            "Epoch 16/200\n",
            "\u001b[1m2/2\u001b[0m \u001b[32m━━━━━━━━━━━━━━━━━━━━\u001b[0m\u001b[37m\u001b[0m \u001b[1m0s\u001b[0m 28ms/step - accuracy: 0.3160 - f1_score: 0.1723 - loss: 2.5225\n",
            "Epoch 17/200\n",
            "\u001b[1m2/2\u001b[0m \u001b[32m━━━━━━━━━━━━━━━━━━━━\u001b[0m\u001b[37m\u001b[0m \u001b[1m0s\u001b[0m 33ms/step - accuracy: 0.3125 - f1_score: 0.1517 - loss: 2.4934\n",
            "Epoch 18/200\n",
            "\u001b[1m2/2\u001b[0m \u001b[32m━━━━━━━━━━━━━━━━━━━━\u001b[0m\u001b[37m\u001b[0m \u001b[1m0s\u001b[0m 27ms/step - accuracy: 0.3333 - f1_score: 0.1790 - loss: 2.4671\n",
            "Epoch 19/200\n",
            "\u001b[1m2/2\u001b[0m \u001b[32m━━━━━━━━━━━━━━━━━━━━\u001b[0m\u001b[37m\u001b[0m \u001b[1m0s\u001b[0m 28ms/step - accuracy: 0.3056 - f1_score: 0.1519 - loss: 2.4723\n",
            "Epoch 20/200\n",
            "\u001b[1m2/2\u001b[0m \u001b[32m━━━━━━━━━━━━━━━━━━━━\u001b[0m\u001b[37m\u001b[0m \u001b[1m0s\u001b[0m 29ms/step - accuracy: 0.3542 - f1_score: 0.1673 - loss: 2.4473\n",
            "Epoch 21/200\n",
            "\u001b[1m2/2\u001b[0m \u001b[32m━━━━━━━━━━━━━━━━━━━━\u001b[0m\u001b[37m\u001b[0m \u001b[1m0s\u001b[0m 28ms/step - accuracy: 0.3646 - f1_score: 0.1844 - loss: 2.4145\n",
            "Epoch 22/200\n",
            "\u001b[1m2/2\u001b[0m \u001b[32m━━━━━━━━━━━━━━━━━━━━\u001b[0m\u001b[37m\u001b[0m \u001b[1m0s\u001b[0m 30ms/step - accuracy: 0.3958 - f1_score: 0.1867 - loss: 2.3758\n",
            "Epoch 23/200\n",
            "\u001b[1m2/2\u001b[0m \u001b[32m━━━━━━━━━━━━━━━━━━━━\u001b[0m\u001b[37m\u001b[0m \u001b[1m0s\u001b[0m 28ms/step - accuracy: 0.3854 - f1_score: 0.1782 - loss: 2.3439\n",
            "Epoch 24/200\n",
            "\u001b[1m2/2\u001b[0m \u001b[32m━━━━━━━━━━━━━━━━━━━━\u001b[0m\u001b[37m\u001b[0m \u001b[1m0s\u001b[0m 28ms/step - accuracy: 0.3403 - f1_score: 0.1433 - loss: 2.3527\n",
            "Epoch 25/200\n",
            "\u001b[1m2/2\u001b[0m \u001b[32m━━━━━━━━━━━━━━━━━━━━\u001b[0m\u001b[37m\u001b[0m \u001b[1m0s\u001b[0m 38ms/step - accuracy: 0.3958 - f1_score: 0.1664 - loss: 2.2905\n",
            "Epoch 26/200\n",
            "\u001b[1m2/2\u001b[0m \u001b[32m━━━━━━━━━━━━━━━━━━━━\u001b[0m\u001b[37m\u001b[0m \u001b[1m0s\u001b[0m 31ms/step - accuracy: 0.3750 - f1_score: 0.1530 - loss: 2.2744\n",
            "Epoch 27/200\n",
            "\u001b[1m2/2\u001b[0m \u001b[32m━━━━━━━━━━━━━━━━━━━━\u001b[0m\u001b[37m\u001b[0m \u001b[1m0s\u001b[0m 28ms/step - accuracy: 0.3646 - f1_score: 0.1495 - loss: 2.2563\n",
            "Epoch 28/200\n",
            "\u001b[1m2/2\u001b[0m \u001b[32m━━━━━━━━━━━━━━━━━━━━\u001b[0m\u001b[37m\u001b[0m \u001b[1m0s\u001b[0m 28ms/step - accuracy: 0.3750 - f1_score: 0.1510 - loss: 2.2045\n",
            "Epoch 29/200\n",
            "\u001b[1m2/2\u001b[0m \u001b[32m━━━━━━━━━━━━━━━━━━━━\u001b[0m\u001b[37m\u001b[0m \u001b[1m0s\u001b[0m 29ms/step - accuracy: 0.3958 - f1_score: 0.1620 - loss: 2.1841\n",
            "Epoch 30/200\n",
            "\u001b[1m2/2\u001b[0m \u001b[32m━━━━━━━━━━━━━━━━━━━━\u001b[0m\u001b[37m\u001b[0m \u001b[1m0s\u001b[0m 29ms/step - accuracy: 0.3681 - f1_score: 0.1674 - loss: 2.1773\n",
            "Epoch 31/200\n",
            "\u001b[1m2/2\u001b[0m \u001b[32m━━━━━━━━━━━━━━━━━━━━\u001b[0m\u001b[37m\u001b[0m \u001b[1m0s\u001b[0m 28ms/step - accuracy: 0.3889 - f1_score: 0.1615 - loss: 2.1219\n",
            "Epoch 32/200\n",
            "\u001b[1m2/2\u001b[0m \u001b[32m━━━━━━━━━━━━━━━━━━━━\u001b[0m\u001b[37m\u001b[0m \u001b[1m0s\u001b[0m 28ms/step - accuracy: 0.3993 - f1_score: 0.1812 - loss: 2.0934\n",
            "Epoch 33/200\n",
            "\u001b[1m2/2\u001b[0m \u001b[32m━━━━━━━━━━━━━━━━━━━━\u001b[0m\u001b[37m\u001b[0m \u001b[1m0s\u001b[0m 27ms/step - accuracy: 0.3993 - f1_score: 0.1663 - loss: 2.0659\n",
            "Epoch 34/200\n",
            "\u001b[1m2/2\u001b[0m \u001b[32m━━━━━━━━━━━━━━━━━━━━\u001b[0m\u001b[37m\u001b[0m \u001b[1m0s\u001b[0m 32ms/step - accuracy: 0.4132 - f1_score: 0.1897 - loss: 2.0774\n",
            "Epoch 35/200\n",
            "\u001b[1m2/2\u001b[0m \u001b[32m━━━━━━━━━━━━━━━━━━━━\u001b[0m\u001b[37m\u001b[0m \u001b[1m0s\u001b[0m 28ms/step - accuracy: 0.4062 - f1_score: 0.2121 - loss: 2.0755\n",
            "Epoch 36/200\n",
            "\u001b[1m2/2\u001b[0m \u001b[32m━━━━━━━━━━━━━━━━━━━━\u001b[0m\u001b[37m\u001b[0m \u001b[1m0s\u001b[0m 28ms/step - accuracy: 0.4271 - f1_score: 0.2119 - loss: 2.0108\n",
            "Epoch 37/200\n",
            "\u001b[1m2/2\u001b[0m \u001b[32m━━━━━━━━━━━━━━━━━━━━\u001b[0m\u001b[37m\u001b[0m \u001b[1m0s\u001b[0m 29ms/step - accuracy: 0.4375 - f1_score: 0.2082 - loss: 1.9794\n",
            "Epoch 38/200\n",
            "\u001b[1m2/2\u001b[0m \u001b[32m━━━━━━━━━━━━━━━━━━━━\u001b[0m\u001b[37m\u001b[0m \u001b[1m0s\u001b[0m 29ms/step - accuracy: 0.4583 - f1_score: 0.2284 - loss: 1.9260\n",
            "Epoch 39/200\n",
            "\u001b[1m2/2\u001b[0m \u001b[32m━━━━━━━━━━━━━━━━━━━━\u001b[0m\u001b[37m\u001b[0m \u001b[1m0s\u001b[0m 30ms/step - accuracy: 0.4271 - f1_score: 0.2163 - loss: 1.9334\n",
            "Epoch 40/200\n",
            "\u001b[1m2/2\u001b[0m \u001b[32m━━━━━━━━━━━━━━━━━━━━\u001b[0m\u001b[37m\u001b[0m \u001b[1m0s\u001b[0m 29ms/step - accuracy: 0.4583 - f1_score: 0.2205 - loss: 1.8797\n",
            "Epoch 41/200\n",
            "\u001b[1m2/2\u001b[0m \u001b[32m━━━━━━━━━━━━━━━━━━━━\u001b[0m\u001b[37m\u001b[0m \u001b[1m0s\u001b[0m 28ms/step - accuracy: 0.4653 - f1_score: 0.2505 - loss: 1.8493\n",
            "Epoch 42/200\n",
            "\u001b[1m2/2\u001b[0m \u001b[32m━━━━━━━━━━━━━━━━━━━━\u001b[0m\u001b[37m\u001b[0m \u001b[1m0s\u001b[0m 46ms/step - accuracy: 0.5139 - f1_score: 0.2804 - loss: 1.8148\n",
            "Epoch 43/200\n",
            "\u001b[1m2/2\u001b[0m \u001b[32m━━━━━━━━━━━━━━━━━━━━\u001b[0m\u001b[37m\u001b[0m \u001b[1m0s\u001b[0m 27ms/step - accuracy: 0.5729 - f1_score: 0.3180 - loss: 1.7852\n",
            "Epoch 44/200\n",
            "\u001b[1m2/2\u001b[0m \u001b[32m━━━━━━━━━━━━━━━━━━━━\u001b[0m\u001b[37m\u001b[0m \u001b[1m0s\u001b[0m 27ms/step - accuracy: 0.5521 - f1_score: 0.3124 - loss: 1.7798\n",
            "Epoch 45/200\n",
            "\u001b[1m2/2\u001b[0m \u001b[32m━━━━━━━━━━━━━━━━━━━━\u001b[0m\u001b[37m\u001b[0m \u001b[1m0s\u001b[0m 29ms/step - accuracy: 0.5729 - f1_score: 0.3163 - loss: 1.7542\n",
            "Epoch 46/200\n",
            "\u001b[1m2/2\u001b[0m \u001b[32m━━━━━━━━━━━━━━━━━━━━\u001b[0m\u001b[37m\u001b[0m \u001b[1m0s\u001b[0m 28ms/step - accuracy: 0.5660 - f1_score: 0.3316 - loss: 1.7159\n",
            "Epoch 47/200\n",
            "\u001b[1m2/2\u001b[0m \u001b[32m━━━━━━━━━━━━━━━━━━━━\u001b[0m\u001b[37m\u001b[0m \u001b[1m0s\u001b[0m 29ms/step - accuracy: 0.5903 - f1_score: 0.3373 - loss: 1.6947 \n",
            "Epoch 48/200\n",
            "\u001b[1m2/2\u001b[0m \u001b[32m━━━━━━━━━━━━━━━━━━━━\u001b[0m\u001b[37m\u001b[0m \u001b[1m0s\u001b[0m 29ms/step - accuracy: 0.6319 - f1_score: 0.3725 - loss: 1.6347\n",
            "Epoch 49/200\n",
            "\u001b[1m2/2\u001b[0m \u001b[32m━━━━━━━━━━━━━━━━━━━━\u001b[0m\u001b[37m\u001b[0m \u001b[1m0s\u001b[0m 28ms/step - accuracy: 0.6215 - f1_score: 0.3640 - loss: 1.5853\n",
            "Epoch 50/200\n",
            "\u001b[1m2/2\u001b[0m \u001b[32m━━━━━━━━━━━━━━━━━━━━\u001b[0m\u001b[37m\u001b[0m \u001b[1m0s\u001b[0m 28ms/step - accuracy: 0.6562 - f1_score: 0.3978 - loss: 1.5423\n",
            "Epoch 51/200\n",
            "\u001b[1m2/2\u001b[0m \u001b[32m━━━━━━━━━━━━━━━━━━━━\u001b[0m\u001b[37m\u001b[0m \u001b[1m0s\u001b[0m 28ms/step - accuracy: 0.6285 - f1_score: 0.4208 - loss: 1.5816\n",
            "Epoch 52/200\n",
            "\u001b[1m2/2\u001b[0m \u001b[32m━━━━━━━━━━━━━━━━━━━━\u001b[0m\u001b[37m\u001b[0m \u001b[1m0s\u001b[0m 28ms/step - accuracy: 0.6806 - f1_score: 0.4405 - loss: 1.4990\n",
            "Epoch 53/200\n",
            "\u001b[1m2/2\u001b[0m \u001b[32m━━━━━━━━━━━━━━━━━━━━\u001b[0m\u001b[37m\u001b[0m \u001b[1m0s\u001b[0m 28ms/step - accuracy: 0.6701 - f1_score: 0.4383 - loss: 1.4677\n",
            "Epoch 54/200\n",
            "\u001b[1m2/2\u001b[0m \u001b[32m━━━━━━━━━━━━━━━━━━━━\u001b[0m\u001b[37m\u001b[0m \u001b[1m0s\u001b[0m 29ms/step - accuracy: 0.6840 - f1_score: 0.4182 - loss: 1.4436\n",
            "Epoch 55/200\n",
            "\u001b[1m2/2\u001b[0m \u001b[32m━━━━━━━━━━━━━━━━━━━━\u001b[0m\u001b[37m\u001b[0m \u001b[1m0s\u001b[0m 28ms/step - accuracy: 0.6875 - f1_score: 0.4708 - loss: 1.4277\n",
            "Epoch 56/200\n",
            "\u001b[1m2/2\u001b[0m \u001b[32m━━━━━━━━━━━━━━━━━━━━\u001b[0m\u001b[37m\u001b[0m \u001b[1m0s\u001b[0m 28ms/step - accuracy: 0.6875 - f1_score: 0.4820 - loss: 1.4326\n",
            "Epoch 57/200\n",
            "\u001b[1m2/2\u001b[0m \u001b[32m━━━━━━━━━━━━━━━━━━━━\u001b[0m\u001b[37m\u001b[0m \u001b[1m0s\u001b[0m 34ms/step - accuracy: 0.7014 - f1_score: 0.4656 - loss: 1.3812\n",
            "Epoch 58/200\n",
            "\u001b[1m2/2\u001b[0m \u001b[32m━━━━━━━━━━━━━━━━━━━━\u001b[0m\u001b[37m\u001b[0m \u001b[1m0s\u001b[0m 28ms/step - accuracy: 0.7257 - f1_score: 0.4927 - loss: 1.3403\n",
            "Epoch 59/200\n",
            "\u001b[1m2/2\u001b[0m \u001b[32m━━━━━━━━━━━━━━━━━━━━\u001b[0m\u001b[37m\u001b[0m \u001b[1m0s\u001b[0m 28ms/step - accuracy: 0.7153 - f1_score: 0.5067 - loss: 1.3435\n",
            "Epoch 60/200\n",
            "\u001b[1m2/2\u001b[0m \u001b[32m━━━━━━━━━━━━━━━━━━━━\u001b[0m\u001b[37m\u001b[0m \u001b[1m0s\u001b[0m 28ms/step - accuracy: 0.7153 - f1_score: 0.4858 - loss: 1.3354\n",
            "Epoch 61/200\n",
            "\u001b[1m2/2\u001b[0m \u001b[32m━━━━━━━━━━━━━━━━━━━━\u001b[0m\u001b[37m\u001b[0m \u001b[1m0s\u001b[0m 28ms/step - accuracy: 0.7153 - f1_score: 0.4669 - loss: 1.2818\n",
            "Epoch 62/200\n",
            "\u001b[1m2/2\u001b[0m \u001b[32m━━━━━━━━━━━━━━━━━━━━\u001b[0m\u001b[37m\u001b[0m \u001b[1m0s\u001b[0m 29ms/step - accuracy: 0.7812 - f1_score: 0.5126 - loss: 1.2091\n",
            "Epoch 63/200\n",
            "\u001b[1m2/2\u001b[0m \u001b[32m━━━━━━━━━━━━━━━━━━━━\u001b[0m\u001b[37m\u001b[0m \u001b[1m0s\u001b[0m 28ms/step - accuracy: 0.7535 - f1_score: 0.5106 - loss: 1.2543\n",
            "Epoch 64/200\n",
            "\u001b[1m2/2\u001b[0m \u001b[32m━━━━━━━━━━━━━━━━━━━━\u001b[0m\u001b[37m\u001b[0m \u001b[1m0s\u001b[0m 33ms/step - accuracy: 0.7708 - f1_score: 0.5261 - loss: 1.1612\n",
            "Epoch 65/200\n",
            "\u001b[1m2/2\u001b[0m \u001b[32m━━━━━━━━━━━━━━━━━━━━\u001b[0m\u001b[37m\u001b[0m \u001b[1m0s\u001b[0m 28ms/step - accuracy: 0.7188 - f1_score: 0.5016 - loss: 1.1927\n",
            "Epoch 66/200\n",
            "\u001b[1m2/2\u001b[0m \u001b[32m━━━━━━━━━━━━━━━━━━━━\u001b[0m\u001b[37m\u001b[0m \u001b[1m0s\u001b[0m 28ms/step - accuracy: 0.7396 - f1_score: 0.5065 - loss: 1.1590\n",
            "Epoch 67/200\n",
            "\u001b[1m2/2\u001b[0m \u001b[32m━━━━━━━━━━━━━━━━━━━━\u001b[0m\u001b[37m\u001b[0m \u001b[1m0s\u001b[0m 29ms/step - accuracy: 0.7778 - f1_score: 0.5337 - loss: 1.0971\n",
            "Epoch 68/200\n",
            "\u001b[1m2/2\u001b[0m \u001b[32m━━━━━━━━━━━━━━━━━━━━\u001b[0m\u001b[37m\u001b[0m \u001b[1m0s\u001b[0m 28ms/step - accuracy: 0.7986 - f1_score: 0.5068 - loss: 1.0747\n",
            "Epoch 69/200\n",
            "\u001b[1m2/2\u001b[0m \u001b[32m━━━━━━━━━━━━━━━━━━━━\u001b[0m\u001b[37m\u001b[0m \u001b[1m0s\u001b[0m 30ms/step - accuracy: 0.7778 - f1_score: 0.5505 - loss: 1.0471\n",
            "Epoch 70/200\n",
            "\u001b[1m2/2\u001b[0m \u001b[32m━━━━━━━━━━━━━━━━━━━━\u001b[0m\u001b[37m\u001b[0m \u001b[1m0s\u001b[0m 28ms/step - accuracy: 0.8264 - f1_score: 0.5992 - loss: 1.0260\n",
            "Epoch 71/200\n",
            "\u001b[1m2/2\u001b[0m \u001b[32m━━━━━━━━━━━━━━━━━━━━\u001b[0m\u001b[37m\u001b[0m \u001b[1m0s\u001b[0m 29ms/step - accuracy: 0.8611 - f1_score: 0.6186 - loss: 0.9921\n",
            "Epoch 72/200\n",
            "\u001b[1m2/2\u001b[0m \u001b[32m━━━━━━━━━━━━━━━━━━━━\u001b[0m\u001b[37m\u001b[0m \u001b[1m0s\u001b[0m 28ms/step - accuracy: 0.8611 - f1_score: 0.6361 - loss: 0.9764\n",
            "Epoch 73/200\n",
            "\u001b[1m2/2\u001b[0m \u001b[32m━━━━━━━━━━━━━━━━━━━━\u001b[0m\u001b[37m\u001b[0m \u001b[1m0s\u001b[0m 30ms/step - accuracy: 0.8403 - f1_score: 0.6038 - loss: 0.9387\n",
            "Epoch 74/200\n",
            "\u001b[1m2/2\u001b[0m \u001b[32m━━━━━━━━━━━━━━━━━━━━\u001b[0m\u001b[37m\u001b[0m \u001b[1m0s\u001b[0m 43ms/step - accuracy: 0.8715 - f1_score: 0.6402 - loss: 0.9048\n",
            "Epoch 75/200\n",
            "\u001b[1m2/2\u001b[0m \u001b[32m━━━━━━━━━━━━━━━━━━━━\u001b[0m\u001b[37m\u001b[0m \u001b[1m0s\u001b[0m 28ms/step - accuracy: 0.8507 - f1_score: 0.6288 - loss: 0.9109\n",
            "Epoch 76/200\n",
            "\u001b[1m2/2\u001b[0m \u001b[32m━━━━━━━━━━━━━━━━━━━━\u001b[0m\u001b[37m\u001b[0m \u001b[1m0s\u001b[0m 29ms/step - accuracy: 0.8507 - f1_score: 0.6125 - loss: 0.8751\n",
            "Epoch 77/200\n",
            "\u001b[1m2/2\u001b[0m \u001b[32m━━━━━━━━━━━━━━━━━━━━\u001b[0m\u001b[37m\u001b[0m \u001b[1m0s\u001b[0m 28ms/step - accuracy: 0.8611 - f1_score: 0.6230 - loss: 0.8330\n",
            "Epoch 78/200\n",
            "\u001b[1m2/2\u001b[0m \u001b[32m━━━━━━━━━━━━━━━━━━━━\u001b[0m\u001b[37m\u001b[0m \u001b[1m0s\u001b[0m 28ms/step - accuracy: 0.8507 - f1_score: 0.6185 - loss: 0.8201\n",
            "Epoch 79/200\n",
            "\u001b[1m2/2\u001b[0m \u001b[32m━━━━━━━━━━━━━━━━━━━━\u001b[0m\u001b[37m\u001b[0m \u001b[1m0s\u001b[0m 29ms/step - accuracy: 0.8507 - f1_score: 0.6000 - loss: 0.8011\n",
            "Epoch 80/200\n",
            "\u001b[1m2/2\u001b[0m \u001b[32m━━━━━━━━━━━━━━━━━━━━\u001b[0m\u001b[37m\u001b[0m \u001b[1m0s\u001b[0m 28ms/step - accuracy: 0.8611 - f1_score: 0.6180 - loss: 0.7628\n",
            "Epoch 81/200\n",
            "\u001b[1m2/2\u001b[0m \u001b[32m━━━━━━━━━━━━━━━━━━━━\u001b[0m\u001b[37m\u001b[0m \u001b[1m0s\u001b[0m 28ms/step - accuracy: 0.8403 - f1_score: 0.6251 - loss: 0.7797\n",
            "Epoch 82/200\n",
            "\u001b[1m2/2\u001b[0m \u001b[32m━━━━━━━━━━━━━━━━━━━━\u001b[0m\u001b[37m\u001b[0m \u001b[1m0s\u001b[0m 29ms/step - accuracy: 0.8785 - f1_score: 0.6822 - loss: 0.7371\n",
            "Epoch 83/200\n",
            "\u001b[1m2/2\u001b[0m \u001b[32m━━━━━━━━━━━━━━━━━━━━\u001b[0m\u001b[37m\u001b[0m \u001b[1m0s\u001b[0m 29ms/step - accuracy: 0.9097 - f1_score: 0.6775 - loss: 0.7041\n",
            "Epoch 84/200\n",
            "\u001b[1m2/2\u001b[0m \u001b[32m━━━━━━━━━━━━━━━━━━━━\u001b[0m\u001b[37m\u001b[0m \u001b[1m0s\u001b[0m 29ms/step - accuracy: 0.8785 - f1_score: 0.6472 - loss: 0.6977\n",
            "Epoch 85/200\n",
            "\u001b[1m2/2\u001b[0m \u001b[32m━━━━━━━━━━━━━━━━━━━━\u001b[0m\u001b[37m\u001b[0m \u001b[1m0s\u001b[0m 29ms/step - accuracy: 0.8993 - f1_score: 0.6790 - loss: 0.6588\n",
            "Epoch 86/200\n",
            "\u001b[1m2/2\u001b[0m \u001b[32m━━━━━━━━━━━━━━━━━━━━\u001b[0m\u001b[37m\u001b[0m \u001b[1m0s\u001b[0m 28ms/step - accuracy: 0.9097 - f1_score: 0.6507 - loss: 0.6253\n",
            "Epoch 87/200\n",
            "\u001b[1m2/2\u001b[0m \u001b[32m━━━━━━━━━━━━━━━━━━━━\u001b[0m\u001b[37m\u001b[0m \u001b[1m0s\u001b[0m 27ms/step - accuracy: 0.8993 - f1_score: 0.6901 - loss: 0.6190\n",
            "Epoch 88/200\n",
            "\u001b[1m2/2\u001b[0m \u001b[32m━━━━━━━━━━━━━━━━━━━━\u001b[0m\u001b[37m\u001b[0m \u001b[1m0s\u001b[0m 28ms/step - accuracy: 0.9132 - f1_score: 0.6908 - loss: 0.6239\n",
            "Epoch 89/200\n",
            "\u001b[1m2/2\u001b[0m \u001b[32m━━━━━━━━━━━━━━━━━━━━\u001b[0m\u001b[37m\u001b[0m \u001b[1m0s\u001b[0m 32ms/step - accuracy: 0.9236 - f1_score: 0.6854 - loss: 0.5930\n",
            "Epoch 90/200\n",
            "\u001b[1m2/2\u001b[0m \u001b[32m━━━━━━━━━━━━━━━━━━━━\u001b[0m\u001b[37m\u001b[0m \u001b[1m0s\u001b[0m 27ms/step - accuracy: 0.9375 - f1_score: 0.7418 - loss: 0.5974\n",
            "Epoch 91/200\n",
            "\u001b[1m2/2\u001b[0m \u001b[32m━━━━━━━━━━━━━━━━━━━━\u001b[0m\u001b[37m\u001b[0m \u001b[1m0s\u001b[0m 38ms/step - accuracy: 0.9271 - f1_score: 0.7733 - loss: 0.5917\n",
            "Epoch 92/200\n",
            "\u001b[1m2/2\u001b[0m \u001b[32m━━━━━━━━━━━━━━━━━━━━\u001b[0m\u001b[37m\u001b[0m \u001b[1m0s\u001b[0m 29ms/step - accuracy: 0.9479 - f1_score: 0.7505 - loss: 0.5573\n",
            "Epoch 93/200\n",
            "\u001b[1m2/2\u001b[0m \u001b[32m━━━━━━━━━━━━━━━━━━━━\u001b[0m\u001b[37m\u001b[0m \u001b[1m0s\u001b[0m 30ms/step - accuracy: 0.9514 - f1_score: 0.8025 - loss: 0.5233\n",
            "Epoch 94/200\n",
            "\u001b[1m2/2\u001b[0m \u001b[32m━━━━━━━━━━━━━━━━━━━━\u001b[0m\u001b[37m\u001b[0m \u001b[1m0s\u001b[0m 28ms/step - accuracy: 0.9722 - f1_score: 0.8347 - loss: 0.5289\n",
            "Epoch 95/200\n",
            "\u001b[1m2/2\u001b[0m \u001b[32m━━━━━━━━━━━━━━━━━━━━\u001b[0m\u001b[37m\u001b[0m \u001b[1m0s\u001b[0m 28ms/step - accuracy: 0.9618 - f1_score: 0.8068 - loss: 0.4878\n",
            "Epoch 96/200\n",
            "\u001b[1m2/2\u001b[0m \u001b[32m━━━━━━━━━━━━━━━━━━━━\u001b[0m\u001b[37m\u001b[0m \u001b[1m0s\u001b[0m 28ms/step - accuracy: 0.9618 - f1_score: 0.8280 - loss: 0.4984\n",
            "Epoch 97/200\n",
            "\u001b[1m2/2\u001b[0m \u001b[32m━━━━━━━━━━━━━━━━━━━━\u001b[0m\u001b[37m\u001b[0m \u001b[1m0s\u001b[0m 27ms/step - accuracy: 0.9514 - f1_score: 0.8062 - loss: 0.5072\n",
            "Epoch 98/200\n",
            "\u001b[1m2/2\u001b[0m \u001b[32m━━━━━━━━━━━━━━━━━━━━\u001b[0m\u001b[37m\u001b[0m \u001b[1m0s\u001b[0m 28ms/step - accuracy: 0.9514 - f1_score: 0.7968 - loss: 0.4613\n",
            "Epoch 99/200\n",
            "\u001b[1m2/2\u001b[0m \u001b[32m━━━━━━━━━━━━━━━━━━━━\u001b[0m\u001b[37m\u001b[0m \u001b[1m0s\u001b[0m 28ms/step - accuracy: 0.9514 - f1_score: 0.7763 - loss: 0.4613\n",
            "Epoch 100/200\n",
            "\u001b[1m2/2\u001b[0m \u001b[32m━━━━━━━━━━━━━━━━━━━━\u001b[0m\u001b[37m\u001b[0m \u001b[1m0s\u001b[0m 29ms/step - accuracy: 0.9514 - f1_score: 0.7774 - loss: 0.4534\n",
            "Epoch 101/200\n",
            "\u001b[1m2/2\u001b[0m \u001b[32m━━━━━━━━━━━━━━━━━━━━\u001b[0m\u001b[37m\u001b[0m \u001b[1m0s\u001b[0m 28ms/step - accuracy: 0.9514 - f1_score: 0.8138 - loss: 0.4315\n",
            "Epoch 102/200\n",
            "\u001b[1m2/2\u001b[0m \u001b[32m━━━━━━━━━━━━━━━━━━━━\u001b[0m\u001b[37m\u001b[0m \u001b[1m0s\u001b[0m 28ms/step - accuracy: 0.9514 - f1_score: 0.7870 - loss: 0.4276\n",
            "Epoch 103/200\n",
            "\u001b[1m2/2\u001b[0m \u001b[32m━━━━━━━━━━━━━━━━━━━━\u001b[0m\u001b[37m\u001b[0m \u001b[1m0s\u001b[0m 29ms/step - accuracy: 0.9514 - f1_score: 0.8160 - loss: 0.3925\n",
            "Epoch 104/200\n",
            "\u001b[1m2/2\u001b[0m \u001b[32m━━━━━━━━━━━━━━━━━━━━\u001b[0m\u001b[37m\u001b[0m \u001b[1m0s\u001b[0m 29ms/step - accuracy: 0.9514 - f1_score: 0.8377 - loss: 0.4114\n",
            "Epoch 105/200\n",
            "\u001b[1m2/2\u001b[0m \u001b[32m━━━━━━━━━━━━━━━━━━━━\u001b[0m\u001b[37m\u001b[0m \u001b[1m0s\u001b[0m 31ms/step - accuracy: 0.9618 - f1_score: 0.8242 - loss: 0.3898\n",
            "Epoch 106/200\n",
            "\u001b[1m2/2\u001b[0m \u001b[32m━━━━━━━━━━━━━━━━━━━━\u001b[0m\u001b[37m\u001b[0m \u001b[1m0s\u001b[0m 37ms/step - accuracy: 0.9618 - f1_score: 0.8269 - loss: 0.3741 \n",
            "Epoch 107/200\n",
            "\u001b[1m2/2\u001b[0m \u001b[32m━━━━━━━━━━━━━━━━━━━━\u001b[0m\u001b[37m\u001b[0m \u001b[1m0s\u001b[0m 30ms/step - accuracy: 0.9618 - f1_score: 0.8072 - loss: 0.3728 \n",
            "Epoch 108/200\n",
            "\u001b[1m2/2\u001b[0m \u001b[32m━━━━━━━━━━━━━━━━━━━━\u001b[0m\u001b[37m\u001b[0m \u001b[1m0s\u001b[0m 28ms/step - accuracy: 0.9722 - f1_score: 0.8347 - loss: 0.3408\n",
            "Epoch 109/200\n",
            "\u001b[1m2/2\u001b[0m \u001b[32m━━━━━━━━━━━━━━━━━━━━\u001b[0m\u001b[37m\u001b[0m \u001b[1m0s\u001b[0m 28ms/step - accuracy: 0.9514 - f1_score: 0.8138 - loss: 0.3562\n",
            "Epoch 110/200\n",
            "\u001b[1m2/2\u001b[0m \u001b[32m━━━━━━━━━━━━━━━━━━━━\u001b[0m\u001b[37m\u001b[0m \u001b[1m0s\u001b[0m 27ms/step - accuracy: 0.9514 - f1_score: 0.8193 - loss: 0.3537\n",
            "Epoch 111/200\n",
            "\u001b[1m2/2\u001b[0m \u001b[32m━━━━━━━━━━━━━━━━━━━━\u001b[0m\u001b[37m\u001b[0m \u001b[1m0s\u001b[0m 32ms/step - accuracy: 0.9618 - f1_score: 0.8090 - loss: 0.3425\n",
            "Epoch 112/200\n",
            "\u001b[1m2/2\u001b[0m \u001b[32m━━━━━━━━━━━━━━━━━━━━\u001b[0m\u001b[37m\u001b[0m \u001b[1m0s\u001b[0m 29ms/step - accuracy: 0.9514 - f1_score: 0.7989 - loss: 0.3351\n",
            "Epoch 113/200\n",
            "\u001b[1m2/2\u001b[0m \u001b[32m━━━━━━━━━━━━━━━━━━━━\u001b[0m\u001b[37m\u001b[0m \u001b[1m0s\u001b[0m 30ms/step - accuracy: 0.9618 - f1_score: 0.7933 - loss: 0.3386\n",
            "Epoch 114/200\n",
            "\u001b[1m2/2\u001b[0m \u001b[32m━━━━━━━━━━━━━━━━━━━━\u001b[0m\u001b[37m\u001b[0m \u001b[1m0s\u001b[0m 30ms/step - accuracy: 0.9618 - f1_score: 0.7937 - loss: 0.3239\n",
            "Epoch 115/200\n",
            "\u001b[1m2/2\u001b[0m \u001b[32m━━━━━━━━━━━━━━━━━━━━\u001b[0m\u001b[37m\u001b[0m \u001b[1m0s\u001b[0m 29ms/step - accuracy: 0.9514 - f1_score: 0.8030 - loss: 0.3103\n",
            "Epoch 116/200\n",
            "\u001b[1m2/2\u001b[0m \u001b[32m━━━━━━━━━━━━━━━━━━━━\u001b[0m\u001b[37m\u001b[0m \u001b[1m0s\u001b[0m 29ms/step - accuracy: 0.9722 - f1_score: 0.8543 - loss: 0.2987\n",
            "Epoch 117/200\n",
            "\u001b[1m2/2\u001b[0m \u001b[32m━━━━━━━━━━━━━━━━━━━━\u001b[0m\u001b[37m\u001b[0m \u001b[1m0s\u001b[0m 29ms/step - accuracy: 0.9514 - f1_score: 0.7789 - loss: 0.3005\n",
            "Epoch 118/200\n",
            "\u001b[1m2/2\u001b[0m \u001b[32m━━━━━━━━━━━━━━━━━━━━\u001b[0m\u001b[37m\u001b[0m \u001b[1m0s\u001b[0m 28ms/step - accuracy: 0.9722 - f1_score: 0.8104 - loss: 0.2855\n",
            "Epoch 119/200\n",
            "\u001b[1m2/2\u001b[0m \u001b[32m━━━━━━━━━━━━━━━━━━━━\u001b[0m\u001b[37m\u001b[0m \u001b[1m0s\u001b[0m 29ms/step - accuracy: 0.9618 - f1_score: 0.8196 - loss: 0.2804\n",
            "Epoch 120/200\n",
            "\u001b[1m2/2\u001b[0m \u001b[32m━━━━━━━━━━━━━━━━━━━━\u001b[0m\u001b[37m\u001b[0m \u001b[1m0s\u001b[0m 28ms/step - accuracy: 0.9514 - f1_score: 0.8360 - loss: 0.2736\n",
            "Epoch 121/200\n",
            "\u001b[1m2/2\u001b[0m \u001b[32m━━━━━━━━━━━━━━━━━━━━\u001b[0m\u001b[37m\u001b[0m \u001b[1m0s\u001b[0m 34ms/step - accuracy: 0.9722 - f1_score: 0.8345 - loss: 0.2645\n",
            "Epoch 122/200\n",
            "\u001b[1m2/2\u001b[0m \u001b[32m━━━━━━━━━━━━━━━━━━━━\u001b[0m\u001b[37m\u001b[0m \u001b[1m0s\u001b[0m 30ms/step - accuracy: 0.9514 - f1_score: 0.8135 - loss: 0.2671 \n",
            "Epoch 123/200\n",
            "\u001b[1m2/2\u001b[0m \u001b[32m━━━━━━━━━━━━━━━━━━━━\u001b[0m\u001b[37m\u001b[0m \u001b[1m0s\u001b[0m 30ms/step - accuracy: 0.9514 - f1_score: 0.7827 - loss: 0.2767\n",
            "Epoch 124/200\n",
            "\u001b[1m2/2\u001b[0m \u001b[32m━━━━━━━━━━━━━━━━━━━━\u001b[0m\u001b[37m\u001b[0m \u001b[1m0s\u001b[0m 32ms/step - accuracy: 0.9514 - f1_score: 0.7899 - loss: 0.2676\n",
            "Epoch 125/200\n",
            "\u001b[1m2/2\u001b[0m \u001b[32m━━━━━━━━━━━━━━━━━━━━\u001b[0m\u001b[37m\u001b[0m \u001b[1m0s\u001b[0m 28ms/step - accuracy: 0.9618 - f1_score: 0.8313 - loss: 0.2576\n",
            "Epoch 126/200\n",
            "\u001b[1m2/2\u001b[0m \u001b[32m━━━━━━━━━━━━━━━━━━━━\u001b[0m\u001b[37m\u001b[0m \u001b[1m0s\u001b[0m 32ms/step - accuracy: 0.9618 - f1_score: 0.8177 - loss: 0.2552\n",
            "Epoch 127/200\n",
            "\u001b[1m2/2\u001b[0m \u001b[32m━━━━━━━━━━━━━━━━━━━━\u001b[0m\u001b[37m\u001b[0m \u001b[1m0s\u001b[0m 29ms/step - accuracy: 0.9514 - f1_score: 0.8442 - loss: 0.2463\n",
            "Epoch 128/200\n",
            "\u001b[1m2/2\u001b[0m \u001b[32m━━━━━━━━━━━━━━━━━━━━\u001b[0m\u001b[37m\u001b[0m \u001b[1m0s\u001b[0m 31ms/step - accuracy: 0.9618 - f1_score: 0.8324 - loss: 0.2429\n",
            "Epoch 129/200\n",
            "\u001b[1m2/2\u001b[0m \u001b[32m━━━━━━━━━━━━━━━━━━━━\u001b[0m\u001b[37m\u001b[0m \u001b[1m0s\u001b[0m 33ms/step - accuracy: 0.9514 - f1_score: 0.8355 - loss: 0.2548\n",
            "Epoch 130/200\n",
            "\u001b[1m2/2\u001b[0m \u001b[32m━━━━━━━━━━━━━━━━━━━━\u001b[0m\u001b[37m\u001b[0m \u001b[1m0s\u001b[0m 29ms/step - accuracy: 0.9514 - f1_score: 0.8025 - loss: 0.2445\n",
            "Epoch 131/200\n",
            "\u001b[1m2/2\u001b[0m \u001b[32m━━━━━━━━━━━━━━━━━━━━\u001b[0m\u001b[37m\u001b[0m \u001b[1m0s\u001b[0m 28ms/step - accuracy: 0.9514 - f1_score: 0.8185 - loss: 0.2442\n",
            "Epoch 132/200\n",
            "\u001b[1m2/2\u001b[0m \u001b[32m━━━━━━━━━━━━━━━━━━━━\u001b[0m\u001b[37m\u001b[0m \u001b[1m0s\u001b[0m 29ms/step - accuracy: 0.9722 - f1_score: 0.8347 - loss: 0.2258\n",
            "Epoch 133/200\n",
            "\u001b[1m2/2\u001b[0m \u001b[32m━━━━━━━━━━━━━━━━━━━━\u001b[0m\u001b[37m\u001b[0m \u001b[1m0s\u001b[0m 31ms/step - accuracy: 0.9618 - f1_score: 0.8286 - loss: 0.2291\n",
            "Epoch 134/200\n",
            "\u001b[1m2/2\u001b[0m \u001b[32m━━━━━━━━━━━━━━━━━━━━\u001b[0m\u001b[37m\u001b[0m \u001b[1m0s\u001b[0m 30ms/step - accuracy: 0.9618 - f1_score: 0.8058 - loss: 0.2194 \n",
            "Epoch 135/200\n",
            "\u001b[1m2/2\u001b[0m \u001b[32m━━━━━━━━━━━━━━━━━━━━\u001b[0m\u001b[37m\u001b[0m \u001b[1m0s\u001b[0m 28ms/step - accuracy: 0.9514 - f1_score: 0.7604 - loss: 0.2309\n",
            "Epoch 136/200\n",
            "\u001b[1m2/2\u001b[0m \u001b[32m━━━━━━━━━━━━━━━━━━━━\u001b[0m\u001b[37m\u001b[0m \u001b[1m0s\u001b[0m 34ms/step - accuracy: 0.9722 - f1_score: 0.8391 - loss: 0.2122 \n",
            "Epoch 137/200\n",
            "\u001b[1m2/2\u001b[0m \u001b[32m━━━━━━━━━━━━━━━━━━━━\u001b[0m\u001b[37m\u001b[0m \u001b[1m0s\u001b[0m 32ms/step - accuracy: 0.9514 - f1_score: 0.8173 - loss: 0.2204\n",
            "Epoch 138/200\n",
            "\u001b[1m2/2\u001b[0m \u001b[32m━━━━━━━━━━━━━━━━━━━━\u001b[0m\u001b[37m\u001b[0m \u001b[1m0s\u001b[0m 28ms/step - accuracy: 0.9722 - f1_score: 0.8391 - loss: 0.2106\n",
            "Epoch 139/200\n",
            "\u001b[1m2/2\u001b[0m \u001b[32m━━━━━━━━━━━━━━━━━━━━\u001b[0m\u001b[37m\u001b[0m \u001b[1m0s\u001b[0m 28ms/step - accuracy: 0.9514 - f1_score: 0.7642 - loss: 0.2183\n",
            "Epoch 140/200\n",
            "\u001b[1m2/2\u001b[0m \u001b[32m━━━━━━━━━━━━━━━━━━━━\u001b[0m\u001b[37m\u001b[0m \u001b[1m0s\u001b[0m 31ms/step - accuracy: 0.9479 - f1_score: 0.7865 - loss: 0.2120\n",
            "Epoch 141/200\n",
            "\u001b[1m2/2\u001b[0m \u001b[32m━━━━━━━━━━━━━━━━━━━━\u001b[0m\u001b[37m\u001b[0m \u001b[1m0s\u001b[0m 29ms/step - accuracy: 0.9618 - f1_score: 0.8065 - loss: 0.2008\n",
            "Epoch 142/200\n",
            "\u001b[1m2/2\u001b[0m \u001b[32m━━━━━━━━━━━━━━━━━━━━\u001b[0m\u001b[37m\u001b[0m \u001b[1m0s\u001b[0m 30ms/step - accuracy: 0.9514 - f1_score: 0.8030 - loss: 0.2138\n",
            "Epoch 143/200\n",
            "\u001b[1m2/2\u001b[0m \u001b[32m━━━━━━━━━━━━━━━━━━━━\u001b[0m\u001b[37m\u001b[0m \u001b[1m0s\u001b[0m 29ms/step - accuracy: 0.9618 - f1_score: 0.7971 - loss: 0.1863\n",
            "Epoch 144/200\n",
            "\u001b[1m2/2\u001b[0m \u001b[32m━━━━━━━━━━━━━━━━━━━━\u001b[0m\u001b[37m\u001b[0m \u001b[1m0s\u001b[0m 32ms/step - accuracy: 0.9514 - f1_score: 0.8045 - loss: 0.2109\n",
            "Epoch 145/200\n",
            "\u001b[1m2/2\u001b[0m \u001b[32m━━━━━━━━━━━━━━━━━━━━\u001b[0m\u001b[37m\u001b[0m \u001b[1m0s\u001b[0m 29ms/step - accuracy: 0.9514 - f1_score: 0.8019 - loss: 0.2056\n",
            "Epoch 146/200\n",
            "\u001b[1m2/2\u001b[0m \u001b[32m━━━━━━━━━━━━━━━━━━━━\u001b[0m\u001b[37m\u001b[0m \u001b[1m0s\u001b[0m 29ms/step - accuracy: 0.9514 - f1_score: 0.7894 - loss: 0.2002\n",
            "Epoch 147/200\n",
            "\u001b[1m2/2\u001b[0m \u001b[32m━━━━━━━━━━━━━━━━━━━━\u001b[0m\u001b[37m\u001b[0m \u001b[1m0s\u001b[0m 34ms/step - accuracy: 0.9618 - f1_score: 0.8520 - loss: 0.1890\n",
            "Epoch 148/200\n",
            "\u001b[1m2/2\u001b[0m \u001b[32m━━━━━━━━━━━━━━━━━━━━\u001b[0m\u001b[37m\u001b[0m \u001b[1m0s\u001b[0m 29ms/step - accuracy: 0.9514 - f1_score: 0.7638 - loss: 0.2022\n",
            "Epoch 149/200\n",
            "\u001b[1m2/2\u001b[0m \u001b[32m━━━━━━━━━━━━━━━━━━━━\u001b[0m\u001b[37m\u001b[0m \u001b[1m0s\u001b[0m 42ms/step - accuracy: 0.9618 - f1_score: 0.8520 - loss: 0.1948\n",
            "Epoch 150/200\n",
            "\u001b[1m2/2\u001b[0m \u001b[32m━━━━━━━━━━━━━━━━━━━━\u001b[0m\u001b[37m\u001b[0m \u001b[1m0s\u001b[0m 54ms/step - accuracy: 0.9514 - f1_score: 0.8211 - loss: 0.1907\n",
            "Epoch 151/200\n",
            "\u001b[1m2/2\u001b[0m \u001b[32m━━━━━━━━━━━━━━━━━━━━\u001b[0m\u001b[37m\u001b[0m \u001b[1m0s\u001b[0m 43ms/step - accuracy: 0.9514 - f1_score: 0.8160 - loss: 0.1885\n",
            "Epoch 152/200\n",
            "\u001b[1m2/2\u001b[0m \u001b[32m━━━━━━━━━━━━━━━━━━━━\u001b[0m\u001b[37m\u001b[0m \u001b[1m0s\u001b[0m 49ms/step - accuracy: 0.9514 - f1_score: 0.7979 - loss: 0.1801\n",
            "Epoch 153/200\n",
            "\u001b[1m2/2\u001b[0m \u001b[32m━━━━━━━━━━━━━━━━━━━━\u001b[0m\u001b[37m\u001b[0m \u001b[1m0s\u001b[0m 44ms/step - accuracy: 0.9514 - f1_score: 0.7985 - loss: 0.1852\n",
            "Epoch 154/200\n",
            "\u001b[1m2/2\u001b[0m \u001b[32m━━━━━━━━━━━━━━━━━━━━\u001b[0m\u001b[37m\u001b[0m \u001b[1m0s\u001b[0m 38ms/step - accuracy: 0.9618 - f1_score: 0.8090 - loss: 0.1788\n",
            "Epoch 155/200\n",
            "\u001b[1m2/2\u001b[0m \u001b[32m━━━━━━━━━━━━━━━━━━━━\u001b[0m\u001b[37m\u001b[0m \u001b[1m0s\u001b[0m 39ms/step - accuracy: 0.9722 - f1_score: 0.8151 - loss: 0.1792 \n",
            "Epoch 156/200\n",
            "\u001b[1m2/2\u001b[0m \u001b[32m━━━━━━━━━━━━━━━━━━━━\u001b[0m\u001b[37m\u001b[0m \u001b[1m0s\u001b[0m 41ms/step - accuracy: 0.9514 - f1_score: 0.8155 - loss: 0.1741\n",
            "Epoch 157/200\n",
            "\u001b[1m2/2\u001b[0m \u001b[32m━━━━━━━━━━━━━━━━━━━━\u001b[0m\u001b[37m\u001b[0m \u001b[1m0s\u001b[0m 43ms/step - accuracy: 0.9618 - f1_score: 0.8072 - loss: 0.1766\n",
            "Epoch 158/200\n",
            "\u001b[1m2/2\u001b[0m \u001b[32m━━━━━━━━━━━━━━━━━━━━\u001b[0m\u001b[37m\u001b[0m \u001b[1m0s\u001b[0m 44ms/step - accuracy: 0.9375 - f1_score: 0.7714 - loss: 0.1649\n",
            "Epoch 159/200\n",
            "\u001b[1m2/2\u001b[0m \u001b[32m━━━━━━━━━━━━━━━━━━━━\u001b[0m\u001b[37m\u001b[0m \u001b[1m0s\u001b[0m 41ms/step - accuracy: 0.9722 - f1_score: 0.7999 - loss: 0.1536\n",
            "Epoch 160/200\n",
            "\u001b[1m2/2\u001b[0m \u001b[32m━━━━━━━━━━━━━━━━━━━━\u001b[0m\u001b[37m\u001b[0m \u001b[1m0s\u001b[0m 48ms/step - accuracy: 0.9514 - f1_score: 0.8193 - loss: 0.1727\n",
            "Epoch 161/200\n",
            "\u001b[1m2/2\u001b[0m \u001b[32m━━━━━━━━━━━━━━━━━━━━\u001b[0m\u001b[37m\u001b[0m \u001b[1m0s\u001b[0m 49ms/step - accuracy: 0.9514 - f1_score: 0.8069 - loss: 0.1627\n",
            "Epoch 162/200\n",
            "\u001b[1m2/2\u001b[0m \u001b[32m━━━━━━━━━━━━━━━━━━━━\u001b[0m\u001b[37m\u001b[0m \u001b[1m0s\u001b[0m 46ms/step - accuracy: 0.9618 - f1_score: 0.8156 - loss: 0.1502\n",
            "Epoch 163/200\n",
            "\u001b[1m2/2\u001b[0m \u001b[32m━━━━━━━━━━━━━━━━━━━━\u001b[0m\u001b[37m\u001b[0m \u001b[1m0s\u001b[0m 49ms/step - accuracy: 0.9514 - f1_score: 0.7932 - loss: 0.1604\n",
            "Epoch 164/200\n",
            "\u001b[1m2/2\u001b[0m \u001b[32m━━━━━━━━━━━━━━━━━━━━\u001b[0m\u001b[37m\u001b[0m \u001b[1m0s\u001b[0m 44ms/step - accuracy: 0.9514 - f1_score: 0.8015 - loss: 0.1705\n",
            "Epoch 165/200\n",
            "\u001b[1m2/2\u001b[0m \u001b[32m━━━━━━━━━━━━━━━━━━━━\u001b[0m\u001b[37m\u001b[0m \u001b[1m0s\u001b[0m 42ms/step - accuracy: 0.9722 - f1_score: 0.8195 - loss: 0.1571\n",
            "Epoch 166/200\n",
            "\u001b[1m2/2\u001b[0m \u001b[32m━━━━━━━━━━━━━━━━━━━━\u001b[0m\u001b[37m\u001b[0m \u001b[1m0s\u001b[0m 43ms/step - accuracy: 0.9618 - f1_score: 0.8102 - loss: 0.1606\n",
            "Epoch 167/200\n",
            "\u001b[1m2/2\u001b[0m \u001b[32m━━━━━━━━━━━━━━━━━━━━\u001b[0m\u001b[37m\u001b[0m \u001b[1m0s\u001b[0m 39ms/step - accuracy: 0.9514 - f1_score: 0.8106 - loss: 0.1613\n",
            "Epoch 168/200\n",
            "\u001b[1m2/2\u001b[0m \u001b[32m━━━━━━━━━━━━━━━━━━━━\u001b[0m\u001b[37m\u001b[0m \u001b[1m0s\u001b[0m 34ms/step - accuracy: 0.9618 - f1_score: 0.8134 - loss: 0.1607\n",
            "Epoch 169/200\n",
            "\u001b[1m2/2\u001b[0m \u001b[32m━━━━━━━━━━━━━━━━━━━━\u001b[0m\u001b[37m\u001b[0m \u001b[1m0s\u001b[0m 29ms/step - accuracy: 0.9618 - f1_score: 0.8323 - loss: 0.1472\n",
            "Epoch 170/200\n",
            "\u001b[1m2/2\u001b[0m \u001b[32m━━━━━━━━━━━━━━━━━━━━\u001b[0m\u001b[37m\u001b[0m \u001b[1m0s\u001b[0m 30ms/step - accuracy: 0.9618 - f1_score: 0.7859 - loss: 0.1536\n",
            "Epoch 171/200\n",
            "\u001b[1m2/2\u001b[0m \u001b[32m━━━━━━━━━━━━━━━━━━━━\u001b[0m\u001b[37m\u001b[0m \u001b[1m0s\u001b[0m 31ms/step - accuracy: 0.9514 - f1_score: 0.8124 - loss: 0.1606\n",
            "Epoch 172/200\n",
            "\u001b[1m2/2\u001b[0m \u001b[32m━━━━━━━━━━━━━━━━━━━━\u001b[0m\u001b[37m\u001b[0m \u001b[1m0s\u001b[0m 30ms/step - accuracy: 0.9618 - f1_score: 0.8392 - loss: 0.1519\n",
            "Epoch 173/200\n",
            "\u001b[1m2/2\u001b[0m \u001b[32m━━━━━━━━━━━━━━━━━━━━\u001b[0m\u001b[37m\u001b[0m \u001b[1m0s\u001b[0m 29ms/step - accuracy: 0.9514 - f1_score: 0.7999 - loss: 0.1526\n",
            "Epoch 174/200\n",
            "\u001b[1m2/2\u001b[0m \u001b[32m━━━━━━━━━━━━━━━━━━━━\u001b[0m\u001b[37m\u001b[0m \u001b[1m0s\u001b[0m 35ms/step - accuracy: 0.9514 - f1_score: 0.8030 - loss: 0.1497\n",
            "Epoch 175/200\n",
            "\u001b[1m2/2\u001b[0m \u001b[32m━━━━━━━━━━━━━━━━━━━━\u001b[0m\u001b[37m\u001b[0m \u001b[1m0s\u001b[0m 30ms/step - accuracy: 0.9514 - f1_score: 0.8247 - loss: 0.1565\n",
            "Epoch 176/200\n",
            "\u001b[1m2/2\u001b[0m \u001b[32m━━━━━━━━━━━━━━━━━━━━\u001b[0m\u001b[37m\u001b[0m \u001b[1m0s\u001b[0m 31ms/step - accuracy: 0.9514 - f1_score: 0.7768 - loss: 0.1561 \n",
            "Epoch 177/200\n",
            "\u001b[1m2/2\u001b[0m \u001b[32m━━━━━━━━━━━━━━━━━━━━\u001b[0m\u001b[37m\u001b[0m \u001b[1m0s\u001b[0m 30ms/step - accuracy: 0.9618 - f1_score: 0.8112 - loss: 0.1340\n",
            "Epoch 178/200\n",
            "\u001b[1m2/2\u001b[0m \u001b[32m━━━━━━━━━━━━━━━━━━━━\u001b[0m\u001b[37m\u001b[0m \u001b[1m0s\u001b[0m 29ms/step - accuracy: 0.9618 - f1_score: 0.8058 - loss: 0.1506\n",
            "Epoch 179/200\n",
            "\u001b[1m2/2\u001b[0m \u001b[32m━━━━━━━━━━━━━━━━━━━━\u001b[0m\u001b[37m\u001b[0m \u001b[1m0s\u001b[0m 34ms/step - accuracy: 0.9618 - f1_score: 0.8242 - loss: 0.1394\n",
            "Epoch 180/200\n",
            "\u001b[1m2/2\u001b[0m \u001b[32m━━━━━━━━━━━━━━━━━━━━\u001b[0m\u001b[37m\u001b[0m \u001b[1m0s\u001b[0m 34ms/step - accuracy: 0.9514 - f1_score: 0.8229 - loss: 0.1478\n",
            "Epoch 181/200\n",
            "\u001b[1m2/2\u001b[0m \u001b[32m━━━━━━━━━━━━━━━━━━━━\u001b[0m\u001b[37m\u001b[0m \u001b[1m0s\u001b[0m 29ms/step - accuracy: 0.9479 - f1_score: 0.7753 - loss: 0.1328\n",
            "Epoch 182/200\n",
            "\u001b[1m2/2\u001b[0m \u001b[32m━━━━━━━━━━━━━━━━━━━━\u001b[0m\u001b[37m\u001b[0m \u001b[1m0s\u001b[0m 29ms/step - accuracy: 0.9722 - f1_score: 0.8543 - loss: 0.1355 \n",
            "Epoch 183/200\n",
            "\u001b[1m2/2\u001b[0m \u001b[32m━━━━━━━━━━━━━━━━━━━━\u001b[0m\u001b[37m\u001b[0m \u001b[1m0s\u001b[0m 31ms/step - accuracy: 0.9757 - f1_score: 0.8570 - loss: 0.1442\n",
            "Epoch 184/200\n",
            "\u001b[1m2/2\u001b[0m \u001b[32m━━━━━━━━━━━━━━━━━━━━\u001b[0m\u001b[37m\u001b[0m \u001b[1m0s\u001b[0m 29ms/step - accuracy: 0.9722 - f1_score: 0.7516 - loss: 0.1338 \n",
            "Epoch 185/200\n",
            "\u001b[1m2/2\u001b[0m \u001b[32m━━━━━━━━━━━━━━━━━━━━\u001b[0m\u001b[37m\u001b[0m \u001b[1m0s\u001b[0m 29ms/step - accuracy: 0.9618 - f1_score: 0.8196 - loss: 0.1354\n",
            "Epoch 186/200\n",
            "\u001b[1m2/2\u001b[0m \u001b[32m━━━━━━━━━━━━━━━━━━━━\u001b[0m\u001b[37m\u001b[0m \u001b[1m0s\u001b[0m 31ms/step - accuracy: 0.9514 - f1_score: 0.7847 - loss: 0.1432\n",
            "Epoch 187/200\n",
            "\u001b[1m2/2\u001b[0m \u001b[32m━━━━━━━━━━━━━━━━━━━━\u001b[0m\u001b[37m\u001b[0m \u001b[1m0s\u001b[0m 30ms/step - accuracy: 0.9618 - f1_score: 0.8240 - loss: 0.1352\n",
            "Epoch 188/200\n",
            "\u001b[1m2/2\u001b[0m \u001b[32m━━━━━━━━━━━━━━━━━━━━\u001b[0m\u001b[37m\u001b[0m \u001b[1m0s\u001b[0m 30ms/step - accuracy: 0.9514 - f1_score: 0.8164 - loss: 0.1442\n",
            "Epoch 189/200\n",
            "\u001b[1m2/2\u001b[0m \u001b[32m━━━━━━━━━━━━━━━━━━━━\u001b[0m\u001b[37m\u001b[0m \u001b[1m0s\u001b[0m 29ms/step - accuracy: 0.9722 - f1_score: 0.7952 - loss: 0.1242\n",
            "Epoch 190/200\n",
            "\u001b[1m2/2\u001b[0m \u001b[32m━━━━━━━━━━━━━━━━━━━━\u001b[0m\u001b[37m\u001b[0m \u001b[1m0s\u001b[0m 30ms/step - accuracy: 0.9514 - f1_score: 0.8059 - loss: 0.1415\n",
            "Epoch 191/200\n",
            "\u001b[1m2/2\u001b[0m \u001b[32m━━━━━━━━━━━━━━━━━━━━\u001b[0m\u001b[37m\u001b[0m \u001b[1m0s\u001b[0m 32ms/step - accuracy: 0.9722 - f1_score: 0.8391 - loss: 0.1257\n",
            "Epoch 192/200\n",
            "\u001b[1m2/2\u001b[0m \u001b[32m━━━━━━━━━━━━━━━━━━━━\u001b[0m\u001b[37m\u001b[0m \u001b[1m0s\u001b[0m 28ms/step - accuracy: 0.9618 - f1_score: 0.8324 - loss: 0.1342\n",
            "Epoch 193/200\n",
            "\u001b[1m2/2\u001b[0m \u001b[32m━━━━━━━━━━━━━━━━━━━━\u001b[0m\u001b[37m\u001b[0m \u001b[1m0s\u001b[0m 29ms/step - accuracy: 0.9618 - f1_score: 0.8102 - loss: 0.1299\n",
            "Epoch 194/200\n",
            "\u001b[1m2/2\u001b[0m \u001b[32m━━━━━━━━━━━━━━━━━━━━\u001b[0m\u001b[37m\u001b[0m \u001b[1m0s\u001b[0m 29ms/step - accuracy: 0.9618 - f1_score: 0.8260 - loss: 0.1295\n",
            "Epoch 195/200\n",
            "\u001b[1m2/2\u001b[0m \u001b[32m━━━━━━━━━━━━━━━━━━━━\u001b[0m\u001b[37m\u001b[0m \u001b[1m0s\u001b[0m 30ms/step - accuracy: 0.9618 - f1_score: 0.8011 - loss: 0.1367\n",
            "Epoch 196/200\n",
            "\u001b[1m2/2\u001b[0m \u001b[32m━━━━━━━━━━━━━━━━━━━━\u001b[0m\u001b[37m\u001b[0m \u001b[1m0s\u001b[0m 30ms/step - accuracy: 0.9514 - f1_score: 0.8054 - loss: 0.1290 \n",
            "Epoch 197/200\n",
            "\u001b[1m2/2\u001b[0m \u001b[32m━━━━━━━━━━━━━━━━━━━━\u001b[0m\u001b[37m\u001b[0m \u001b[1m0s\u001b[0m 32ms/step - accuracy: 0.9618 - f1_score: 0.8220 - loss: 0.1284\n",
            "Epoch 198/200\n",
            "\u001b[1m2/2\u001b[0m \u001b[32m━━━━━━━━━━━━━━━━━━━━\u001b[0m\u001b[37m\u001b[0m \u001b[1m0s\u001b[0m 30ms/step - accuracy: 0.9514 - f1_score: 0.7858 - loss: 0.1358\n",
            "Epoch 199/200\n",
            "\u001b[1m2/2\u001b[0m \u001b[32m━━━━━━━━━━━━━━━━━━━━\u001b[0m\u001b[37m\u001b[0m \u001b[1m0s\u001b[0m 29ms/step - accuracy: 0.9514 - f1_score: 0.7787 - loss: 0.1376\n",
            "Epoch 200/200\n",
            "\u001b[1m2/2\u001b[0m \u001b[32m━━━━━━━━━━━━━━━━━━━━\u001b[0m\u001b[37m\u001b[0m \u001b[1m0s\u001b[0m 30ms/step - accuracy: 0.9514 - f1_score: 0.7906 - loss: 0.1364\n"
          ]
        },
        {
          "output_type": "execute_result",
          "data": {
            "text/plain": [
              "<keras.src.callbacks.history.History at 0x7d57c1bf0d40>"
            ]
          },
          "metadata": {},
          "execution_count": 111
        }
      ]
    },
    {
      "cell_type": "markdown",
      "source": [
        "# Generate new text using the trained model :"
      ],
      "metadata": {
        "id": "FO7aIBjsdBxJ"
      }
    },
    {
      "cell_type": "code",
      "source": [
        "def generate_text(model, start_seq, seq_length, count=20):\n",
        "    if len(start_seq) < seq_length:\n",
        "        raise Exception('Start sequence too Short.')\n",
        "    gen_sequence = start_seq\n",
        "    for i in range(count):\n",
        "       seq = [char_to_index[char] for char in gen_sequence[i:i+seq_length]]\n",
        "       seq = tf.one_hot(np.array([seq]), len(chars))\n",
        "       pred = model.predict(seq)\n",
        "       # print(pred)\n",
        "       pred_char = index_to_char[np.argmax(pred)] # Get the index with highes prob with argma, convert into numpy() val, convert it to a charater.\n",
        "       gen_sequence += pred_char\n",
        "    return gen_sequence"
      ],
      "metadata": {
        "id": "eZ7iOlvddvMq"
      },
      "execution_count": null,
      "outputs": []
    },
    {
      "cell_type": "code",
      "source": [
        "start_seq = \"This is\"\n",
        "count = 50 # No of characters to predict.\n",
        "generated_text = generate_text(model, start_seq,seq_length, count) # Lets define this function in previous cell\n",
        "print(generated_text)"
      ],
      "metadata": {
        "colab": {
          "base_uri": "https://localhost:8080/"
        },
        "id": "jGTq_4F3Z4Yf",
        "outputId": "30955270-e38b-4f2e-8e40-51d2953f47ed"
      },
      "execution_count": null,
      "outputs": [
        {
          "output_type": "stream",
          "name": "stdout",
          "text": [
            "\u001b[1m1/1\u001b[0m \u001b[32m━━━━━━━━━━━━━━━━━━━━\u001b[0m\u001b[37m\u001b[0m \u001b[1m0s\u001b[0m 228ms/step\n",
            "\u001b[1m1/1\u001b[0m \u001b[32m━━━━━━━━━━━━━━━━━━━━\u001b[0m\u001b[37m\u001b[0m \u001b[1m0s\u001b[0m 60ms/step\n",
            "\u001b[1m1/1\u001b[0m \u001b[32m━━━━━━━━━━━━━━━━━━━━\u001b[0m\u001b[37m\u001b[0m \u001b[1m0s\u001b[0m 56ms/step\n",
            "\u001b[1m1/1\u001b[0m \u001b[32m━━━━━━━━━━━━━━━━━━━━\u001b[0m\u001b[37m\u001b[0m \u001b[1m0s\u001b[0m 60ms/step\n",
            "\u001b[1m1/1\u001b[0m \u001b[32m━━━━━━━━━━━━━━━━━━━━\u001b[0m\u001b[37m\u001b[0m \u001b[1m0s\u001b[0m 37ms/step\n",
            "\u001b[1m1/1\u001b[0m \u001b[32m━━━━━━━━━━━━━━━━━━━━\u001b[0m\u001b[37m\u001b[0m \u001b[1m0s\u001b[0m 37ms/step\n",
            "\u001b[1m1/1\u001b[0m \u001b[32m━━━━━━━━━━━━━━━━━━━━\u001b[0m\u001b[37m\u001b[0m \u001b[1m0s\u001b[0m 37ms/step\n",
            "\u001b[1m1/1\u001b[0m \u001b[32m━━━━━━━━━━━━━━━━━━━━\u001b[0m\u001b[37m\u001b[0m \u001b[1m0s\u001b[0m 35ms/step\n",
            "\u001b[1m1/1\u001b[0m \u001b[32m━━━━━━━━━━━━━━━━━━━━\u001b[0m\u001b[37m\u001b[0m \u001b[1m0s\u001b[0m 35ms/step\n",
            "\u001b[1m1/1\u001b[0m \u001b[32m━━━━━━━━━━━━━━━━━━━━\u001b[0m\u001b[37m\u001b[0m \u001b[1m0s\u001b[0m 36ms/step\n",
            "\u001b[1m1/1\u001b[0m \u001b[32m━━━━━━━━━━━━━━━━━━━━\u001b[0m\u001b[37m\u001b[0m \u001b[1m0s\u001b[0m 35ms/step\n",
            "\u001b[1m1/1\u001b[0m \u001b[32m━━━━━━━━━━━━━━━━━━━━\u001b[0m\u001b[37m\u001b[0m \u001b[1m0s\u001b[0m 34ms/step\n",
            "\u001b[1m1/1\u001b[0m \u001b[32m━━━━━━━━━━━━━━━━━━━━\u001b[0m\u001b[37m\u001b[0m \u001b[1m0s\u001b[0m 34ms/step\n",
            "\u001b[1m1/1\u001b[0m \u001b[32m━━━━━━━━━━━━━━━━━━━━\u001b[0m\u001b[37m\u001b[0m \u001b[1m0s\u001b[0m 54ms/step\n",
            "\u001b[1m1/1\u001b[0m \u001b[32m━━━━━━━━━━━━━━━━━━━━\u001b[0m\u001b[37m\u001b[0m \u001b[1m0s\u001b[0m 35ms/step\n",
            "\u001b[1m1/1\u001b[0m \u001b[32m━━━━━━━━━━━━━━━━━━━━\u001b[0m\u001b[37m\u001b[0m \u001b[1m0s\u001b[0m 35ms/step\n",
            "\u001b[1m1/1\u001b[0m \u001b[32m━━━━━━━━━━━━━━━━━━━━\u001b[0m\u001b[37m\u001b[0m \u001b[1m0s\u001b[0m 36ms/step\n",
            "\u001b[1m1/1\u001b[0m \u001b[32m━━━━━━━━━━━━━━━━━━━━\u001b[0m\u001b[37m\u001b[0m \u001b[1m0s\u001b[0m 38ms/step\n",
            "\u001b[1m1/1\u001b[0m \u001b[32m━━━━━━━━━━━━━━━━━━━━\u001b[0m\u001b[37m\u001b[0m \u001b[1m0s\u001b[0m 37ms/step\n",
            "\u001b[1m1/1\u001b[0m \u001b[32m━━━━━━━━━━━━━━━━━━━━\u001b[0m\u001b[37m\u001b[0m \u001b[1m0s\u001b[0m 36ms/step\n",
            "\u001b[1m1/1\u001b[0m \u001b[32m━━━━━━━━━━━━━━━━━━━━\u001b[0m\u001b[37m\u001b[0m \u001b[1m0s\u001b[0m 35ms/step\n",
            "\u001b[1m1/1\u001b[0m \u001b[32m━━━━━━━━━━━━━━━━━━━━\u001b[0m\u001b[37m\u001b[0m \u001b[1m0s\u001b[0m 35ms/step\n",
            "\u001b[1m1/1\u001b[0m \u001b[32m━━━━━━━━━━━━━━━━━━━━\u001b[0m\u001b[37m\u001b[0m \u001b[1m0s\u001b[0m 36ms/step\n",
            "\u001b[1m1/1\u001b[0m \u001b[32m━━━━━━━━━━━━━━━━━━━━\u001b[0m\u001b[37m\u001b[0m \u001b[1m0s\u001b[0m 34ms/step\n",
            "\u001b[1m1/1\u001b[0m \u001b[32m━━━━━━━━━━━━━━━━━━━━\u001b[0m\u001b[37m\u001b[0m \u001b[1m0s\u001b[0m 40ms/step\n",
            "\u001b[1m1/1\u001b[0m \u001b[32m━━━━━━━━━━━━━━━━━━━━\u001b[0m\u001b[37m\u001b[0m \u001b[1m0s\u001b[0m 37ms/step\n",
            "\u001b[1m1/1\u001b[0m \u001b[32m━━━━━━━━━━━━━━━━━━━━\u001b[0m\u001b[37m\u001b[0m \u001b[1m0s\u001b[0m 35ms/step\n",
            "\u001b[1m1/1\u001b[0m \u001b[32m━━━━━━━━━━━━━━━━━━━━\u001b[0m\u001b[37m\u001b[0m \u001b[1m0s\u001b[0m 33ms/step\n",
            "\u001b[1m1/1\u001b[0m \u001b[32m━━━━━━━━━━━━━━━━━━━━\u001b[0m\u001b[37m\u001b[0m \u001b[1m0s\u001b[0m 35ms/step\n",
            "\u001b[1m1/1\u001b[0m \u001b[32m━━━━━━━━━━━━━━━━━━━━\u001b[0m\u001b[37m\u001b[0m \u001b[1m0s\u001b[0m 37ms/step\n",
            "\u001b[1m1/1\u001b[0m \u001b[32m━━━━━━━━━━━━━━━━━━━━\u001b[0m\u001b[37m\u001b[0m \u001b[1m0s\u001b[0m 36ms/step\n",
            "\u001b[1m1/1\u001b[0m \u001b[32m━━━━━━━━━━━━━━━━━━━━\u001b[0m\u001b[37m\u001b[0m \u001b[1m0s\u001b[0m 35ms/step\n",
            "\u001b[1m1/1\u001b[0m \u001b[32m━━━━━━━━━━━━━━━━━━━━\u001b[0m\u001b[37m\u001b[0m \u001b[1m0s\u001b[0m 36ms/step\n",
            "\u001b[1m1/1\u001b[0m \u001b[32m━━━━━━━━━━━━━━━━━━━━\u001b[0m\u001b[37m\u001b[0m \u001b[1m0s\u001b[0m 37ms/step\n",
            "\u001b[1m1/1\u001b[0m \u001b[32m━━━━━━━━━━━━━━━━━━━━\u001b[0m\u001b[37m\u001b[0m \u001b[1m0s\u001b[0m 36ms/step\n",
            "\u001b[1m1/1\u001b[0m \u001b[32m━━━━━━━━━━━━━━━━━━━━\u001b[0m\u001b[37m\u001b[0m \u001b[1m0s\u001b[0m 35ms/step\n",
            "\u001b[1m1/1\u001b[0m \u001b[32m━━━━━━━━━━━━━━━━━━━━\u001b[0m\u001b[37m\u001b[0m \u001b[1m0s\u001b[0m 35ms/step\n",
            "\u001b[1m1/1\u001b[0m \u001b[32m━━━━━━━━━━━━━━━━━━━━\u001b[0m\u001b[37m\u001b[0m \u001b[1m0s\u001b[0m 35ms/step\n",
            "\u001b[1m1/1\u001b[0m \u001b[32m━━━━━━━━━━━━━━━━━━━━\u001b[0m\u001b[37m\u001b[0m \u001b[1m0s\u001b[0m 37ms/step\n",
            "\u001b[1m1/1\u001b[0m \u001b[32m━━━━━━━━━━━━━━━━━━━━\u001b[0m\u001b[37m\u001b[0m \u001b[1m0s\u001b[0m 34ms/step\n",
            "\u001b[1m1/1\u001b[0m \u001b[32m━━━━━━━━━━━━━━━━━━━━\u001b[0m\u001b[37m\u001b[0m \u001b[1m0s\u001b[0m 35ms/step\n",
            "\u001b[1m1/1\u001b[0m \u001b[32m━━━━━━━━━━━━━━━━━━━━\u001b[0m\u001b[37m\u001b[0m \u001b[1m0s\u001b[0m 42ms/step\n",
            "\u001b[1m1/1\u001b[0m \u001b[32m━━━━━━━━━━━━━━━━━━━━\u001b[0m\u001b[37m\u001b[0m \u001b[1m0s\u001b[0m 37ms/step\n",
            "\u001b[1m1/1\u001b[0m \u001b[32m━━━━━━━━━━━━━━━━━━━━\u001b[0m\u001b[37m\u001b[0m \u001b[1m0s\u001b[0m 46ms/step\n",
            "\u001b[1m1/1\u001b[0m \u001b[32m━━━━━━━━━━━━━━━━━━━━\u001b[0m\u001b[37m\u001b[0m \u001b[1m0s\u001b[0m 36ms/step\n",
            "\u001b[1m1/1\u001b[0m \u001b[32m━━━━━━━━━━━━━━━━━━━━\u001b[0m\u001b[37m\u001b[0m \u001b[1m0s\u001b[0m 38ms/step\n",
            "\u001b[1m1/1\u001b[0m \u001b[32m━━━━━━━━━━━━━━━━━━━━\u001b[0m\u001b[37m\u001b[0m \u001b[1m0s\u001b[0m 35ms/step\n",
            "\u001b[1m1/1\u001b[0m \u001b[32m━━━━━━━━━━━━━━━━━━━━\u001b[0m\u001b[37m\u001b[0m \u001b[1m0s\u001b[0m 36ms/step\n",
            "\u001b[1m1/1\u001b[0m \u001b[32m━━━━━━━━━━━━━━━━━━━━\u001b[0m\u001b[37m\u001b[0m \u001b[1m0s\u001b[0m 36ms/step\n",
            "\u001b[1m1/1\u001b[0m \u001b[32m━━━━━━━━━━━━━━━━━━━━\u001b[0m\u001b[37m\u001b[0m \u001b[1m0s\u001b[0m 35ms/step\n",
            "This iss is Gts ieetis  ssuis fee i rGsrs  ta issaio G si\n"
          ]
        }
      ]
    },
    {
      "cell_type": "code",
      "source": [],
      "metadata": {
        "id": "tq8GR4Ehg7Xt"
      },
      "execution_count": null,
      "outputs": []
    },
    {
      "cell_type": "code",
      "source": [],
      "metadata": {
        "id": "hsYikET9hnak"
      },
      "execution_count": null,
      "outputs": []
    }
  ]
}